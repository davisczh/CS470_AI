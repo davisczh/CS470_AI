{
 "cells": [
  {
   "cell_type": "code",
   "execution_count": 2,
   "metadata": {},
   "outputs": [],
   "source": [
    "from langchain_core.utils.function_calling import convert_to_openai_function\n",
    "from langchain.pydantic_v1 import BaseModel, Field\n",
    "from langchain.tools import tool"
   ]
  },
  {
   "cell_type": "code",
   "execution_count": 3,
   "metadata": {},
   "outputs": [
    {
     "name": "stderr",
     "output_type": "stream",
     "text": [
      "/home/heejet/.local/lib/python3.10/site-packages/tqdm/auto.py:21: TqdmWarning: IProgress not found. Please update jupyter and ipywidgets. See https://ipywidgets.readthedocs.io/en/stable/user_install.html\n",
      "  from .autonotebook import tqdm as notebook_tqdm\n"
     ]
    }
   ],
   "source": [
    "import pandas as pd\n",
    "from qdrant_client import QdrantClient,models\n",
    "from sentence_transformers import SentenceTransformer\n"
   ]
  },
  {
   "cell_type": "code",
   "execution_count": 4,
   "metadata": {},
   "outputs": [
    {
     "name": "stderr",
     "output_type": "stream",
     "text": [
      "/home/heejet/.local/lib/python3.10/site-packages/huggingface_hub/file_download.py:1132: FutureWarning: `resume_download` is deprecated and will be removed in version 1.0.0. Downloads always resume when possible. If you want to force a new download, use `force_download=True`.\n",
      "  warnings.warn(\n",
      "/home/heejet/.local/lib/python3.10/site-packages/huggingface_hub/file_download.py:1132: FutureWarning: `resume_download` is deprecated and will be removed in version 1.0.0. Downloads always resume when possible. If you want to force a new download, use `force_download=True`.\n",
      "  warnings.warn(\n"
     ]
    }
   ],
   "source": [
    "client = QdrantClient(url=\"http://localhost:6333\")\n",
    "collection_name = \"no_coordinates_collection\"\n",
    "model = SentenceTransformer('sentence-transformers/all-MiniLM-L6-v2')\n",
    "    "
   ]
  },
  {
   "cell_type": "code",
   "execution_count": 5,
   "metadata": {},
   "outputs": [
    {
     "name": "stdout",
     "output_type": "stream",
     "text": [
      "384\n",
      "[ScoredPoint(id='5e744e0c-cee7-5cf6-b25f-bf4bbf6a6dd2', version=8, score=0.5553415, payload={'categories': ['Hotels', 'Hotels & Travel', 'Event Planning & Services'], 'full_address': '424 Por La Mar Santa Barbara 93103', 'hours': None, 'name': 'Parkside Inn', 'review_count': 42, 'stars': 3.0}, vector=None, shard_key=None), ScoredPoint(id='c557b509-606f-5a9e-9435-1bdc0d65cc07', version=45, score=0.53008175, payload={'categories': ['Venues & Event Spaces', 'Hotels & Travel', 'Event Planning & Services', 'Hotels', 'Wedding Planning'], 'full_address': '900 San Ysidro Ln Santa Barbara 93108', 'hours': {'Friday': '0:0-0:0', 'Monday': '0:0-0:0', 'Saturday': '0:0-0:0', 'Sunday': '0:0-0:0', 'Thursday': '0:0-0:0', 'Tuesday': '0:0-0:0', 'Wednesday': '0:0-0:0'}, 'name': 'San Ysidro Ranch', 'review_count': 129, 'stars': 4.5}, vector=None, shard_key=None), ScoredPoint(id='5faa0e46-12ef-5ef6-92d2-43a12cee5e48', version=17, score=0.5225229, payload={'categories': ['Hotels', 'Hotels & Travel', 'Event Planning & Services'], 'full_address': '1029 Orilla Del Mar Santa Barbara 93103', 'hours': {'Friday': '7:0-17:0', 'Monday': '7:0-17:0', 'Saturday': '7:0-17:0', 'Sunday': '7:0-17:0', 'Thursday': '7:0-17:0', 'Tuesday': '7:0-17:0', 'Wednesday': '7:0-17:0'}, 'name': 'Inn At East Beach', 'review_count': 257, 'stars': 3.5}, vector=None, shard_key=None)]\n"
     ]
    }
   ],
   "source": [
    "# I USED THIS FOR DEBUGGING\n",
    "embeddings = model.encode('900 Embarcadero Del Mar')\n",
    "print(len(embeddings))\n",
    "output = client.search(\n",
    "        collection_name=f\"{collection_name}\",\n",
    "        query_filter=models.Filter(\n",
    "            must=[\n",
    "                models.FieldCondition(\n",
    "                    key=\"categories\",\n",
    "                    match=models.MatchValue(\n",
    "                        value='Hotels',\n",
    "                    ),\n",
    "                )\n",
    "            ]\n",
    "        ),\n",
    "        query_vector=embeddings,\n",
    "        limit=3,\n",
    "    )\n",
    "print(output)"
   ]
  },
  {
   "cell_type": "markdown",
   "metadata": {},
   "source": [
    "# Define your tools!\n",
    "\n",
    "For this we create a Langchain tool for retrieving weather information and use the `convert_to_openai_function` to create the function definition that we will feed into the model"
   ]
  },
  {
   "cell_type": "code",
   "execution_count": 18,
   "metadata": {},
   "outputs": [
    {
     "data": {
      "text/plain": [
       "[{'name': 'get_category',\n",
       "  'description': 'get_category(location: str, Category: str) -> str - Get a business recommendation given location and category of user\\'s choice.        e.g. \"Name of restaurant\": Helena Avenue Bakery, \"Location\": 131 Anacapa St, Ste C Santa Barbara 93101 ,\"Category\": Food, Restaurants, Salad, Coffee & Tea',\n",
       "  'parameters': {'type': 'object',\n",
       "   'properties': {'location': {'description': 'Current location of user.',\n",
       "     'type': 'string'},\n",
       "    'Category': {'description': 'Type of business that the user wants to go.',\n",
       "     'type': 'string'}},\n",
       "   'required': ['location', 'Category']}}]"
      ]
     },
     "execution_count": 18,
     "metadata": {},
     "output_type": "execute_result"
    }
   ],
   "source": [
    "class SearchInput(BaseModel):\n",
    "    location: str = Field(description=\"Current location of user.\")\n",
    "    Category: str = Field(description=\"Type of business that the user wants to go.\")\n",
    "@tool(\"get_category\", args_schema=SearchInput)\n",
    "def get_category(location: str, Category: str) -> str:\n",
    "    \"\"\"Get a business recommendation given location and category of user's choice.\\\n",
    "        e.g. \"Name of restaurant\": Helena Avenue Bakery, \"Location\": 131 Anacapa St, Ste C Santa Barbara 93101 ,\"Category\": Food, Restaurants, Salad, Coffee & Tea \"\"\"\n",
    "    print(location, Category)\n",
    "    address_embedding = model.encode(location)\n",
    "    # print(address_embedding)\n",
    "    output = client.search(\n",
    "        collection_name=f\"{collection_name}\",\n",
    "        query_filter=models.Filter(\n",
    "            must=[\n",
    "                models.FieldCondition(\n",
    "                    key=\"categories\",\n",
    "                    match=models.MatchValue(\n",
    "                        value=Category,\n",
    "                    ),\n",
    "                )\n",
    "            ]\n",
    "        ),\n",
    "        \n",
    "        query_vector=address_embedding,\n",
    "        limit=3,\n",
    "    )\n",
    "\n",
    "    print('Query output:',output)\n",
    "    best_point = max(output, key=lambda x: x.score)\n",
    "    poi_name = best_point.payload['name']\n",
    "    poi_address = best_point.payload['full_address']\n",
    "\n",
    "    print(f\"The best-rated {Category} is {poi_name} located at {poi_name}.\")\n",
    "\n",
    "    return {\"Name\": poi_name ,\"Location\": poi_address}\n",
    "\n",
    "tools = [get_category]\n",
    "functions = [convert_to_openai_function(t) for t in tools]\n",
    "functions"
   ]
  },
  {
   "cell_type": "markdown",
   "metadata": {},
   "source": [
    "# Invoke the Model\n",
    "\n",
    "Now we can prompt the model and pass the functions 🥳"
   ]
  },
  {
   "cell_type": "code",
   "execution_count": 19,
   "metadata": {},
   "outputs": [
    {
     "name": "stdout",
     "output_type": "stream",
     "text": [
      "\n",
      "You are an navigation assistant with access to these functions -\n",
      "[\n",
      "    {\n",
      "        \"name\": \"get_category\",\n",
      "        \"description\": \"get_category(location: str, Category: str) -> str - Get a business recommendation given location and category of user's choice.        e.g. \\\"Name of restaurant\\\": Helena Avenue Bakery, \\\"Location\\\": 131 Anacapa St, Ste C Santa Barbara 93101 ,\\\"Category\\\": Food, Restaurants, Salad, Coffee & Tea\",\n",
      "        \"parameters\": {\n",
      "            \"type\": \"object\",\n",
      "            \"properties\": {\n",
      "                \"location\": {\n",
      "                    \"description\": \"Current location of user.\",\n",
      "                    \"type\": \"string\"\n",
      "                },\n",
      "                \"Category\": {\n",
      "                    \"description\": \"Type of business that the user wants to go.\",\n",
      "                    \"type\": \"string\"\n",
      "                }\n",
      "            },\n",
      "            \"required\": [\n",
      "                \"location\",\n",
      "                \"Category\"\n",
      "            ]\n",
      "        }\n",
      "    }\n",
      "]\n",
      "\n"
     ]
    }
   ],
   "source": [
    "import ollama\n",
    "import json\n",
    "\n",
    "SYSTEM_PROMPT = f\"\"\"\n",
    "You are an navigation assistant with access to these functions -\n",
    "{json.dumps(functions, indent=4)}\n",
    "\"\"\"\n",
    "\n",
    "print (SYSTEM_PROMPT)"
   ]
  },
  {
   "cell_type": "code",
   "execution_count": 20,
   "metadata": {},
   "outputs": [],
   "source": [
    "import json\n",
    "import re\n",
    "from typing import Optional, Dict\n",
    "\n",
    "def parse_function_call(input_str: str) -> Optional[Dict[str, any]]:\n",
    "    \"\"\"\n",
    "    Parses a text string to find and extract a function call.\n",
    "    The function call is expected to be in the format:\n",
    "    <functioncall> {\"name\": \"<function_name>\", \"arguments\": \"<arguments_json_string>\"}\n",
    "\n",
    "    Args:\n",
    "        input_str (str): The text containing the function call.\n",
    "\n",
    "    Returns:\n",
    "        Optional[Dict[str, any]]: A dictionary with 'name' and 'arguments' if a function call is found,\n",
    "                                  otherwise None.\n",
    "    \"\"\"\n",
    "    # Regex pattern to extract 'name' and 'arguments'\n",
    "    pattern = r'\"name\":\\s*\"([^\"]+)\",\\s*\"arguments\":\\s*\\'(.*?)\\''\n",
    "\n",
    "    # Search with regex\n",
    "    match = re.search(pattern, input_str)\n",
    "    print(match)\n",
    "    if match:\n",
    "        try:\n",
    "            name = match.group(1)\n",
    "            arguments_str = match.group(2)\n",
    "            arguments = json.loads(arguments_str)\n",
    "            return {\"name\": name, \"arguments\": arguments}\n",
    "        except json.JSONDecodeError:\n",
    "            return None\n",
    "    return None\n"
   ]
  },
  {
   "cell_type": "code",
   "execution_count": 21,
   "metadata": {},
   "outputs": [],
   "source": [
    "messages = [\n",
    "     {'role': 'system','content': SYSTEM_PROMPT}, \n",
    "     {'role': 'user','content': 'Im at 900 Embarcadero Del Mar, any hotels nearby?'},\n",
    "]\n",
    "\n",
    "response = ollama.chat(model='calebfahlgren/natural-functions', messages=messages)\n",
    "message = (response['message']['content'])"
   ]
  },
  {
   "cell_type": "code",
   "execution_count": 31,
   "metadata": {},
   "outputs": [
    {
     "name": "stdout",
     "output_type": "stream",
     "text": [
      "<functioncall> {\"name\": \"get_category\", \"arguments\": '{\"location\": \"900 Embarcadero Del Mar\", \"Category\": \"Hotels\"}'}\n"
     ]
    }
   ],
   "source": [
    "message"
   ]
  },
  {
   "cell_type": "markdown",
   "metadata": {},
   "source": [
    "# Call the Function\n",
    "\n",
    "Here we pull the function out of `kwargs` and call our tool with the arguments"
   ]
  },
  {
   "cell_type": "code",
   "execution_count": 32,
   "metadata": {},
   "outputs": [
    {
     "name": "stdout",
     "output_type": "stream",
     "text": [
      "<re.Match object; span=(16, 116), match='\"name\": \"get_category\", \"arguments\": \\'{\"location>\n",
      "{'name': 'get_category', 'arguments': {'location': '900 Embarcadero Del Mar', 'Category': 'Hotels'}}\n",
      "900 Embarcadero Del Mar Hotels\n",
      "Query output: [ScoredPoint(id='5e744e0c-cee7-5cf6-b25f-bf4bbf6a6dd2', version=8, score=0.5553415, payload={'categories': ['Hotels', 'Hotels & Travel', 'Event Planning & Services'], 'full_address': '424 Por La Mar Santa Barbara 93103', 'hours': None, 'name': 'Parkside Inn', 'review_count': 42, 'stars': 3.0}, vector=None, shard_key=None), ScoredPoint(id='c557b509-606f-5a9e-9435-1bdc0d65cc07', version=45, score=0.53008175, payload={'categories': ['Venues & Event Spaces', 'Hotels & Travel', 'Event Planning & Services', 'Hotels', 'Wedding Planning'], 'full_address': '900 San Ysidro Ln Santa Barbara 93108', 'hours': {'Friday': '0:0-0:0', 'Monday': '0:0-0:0', 'Saturday': '0:0-0:0', 'Sunday': '0:0-0:0', 'Thursday': '0:0-0:0', 'Tuesday': '0:0-0:0', 'Wednesday': '0:0-0:0'}, 'name': 'San Ysidro Ranch', 'review_count': 129, 'stars': 4.5}, vector=None, shard_key=None), ScoredPoint(id='5faa0e46-12ef-5ef6-92d2-43a12cee5e48', version=17, score=0.5225229, payload={'categories': ['Hotels', 'Hotels & Travel', 'Event Planning & Services'], 'full_address': '1029 Orilla Del Mar Santa Barbara 93103', 'hours': {'Friday': '7:0-17:0', 'Monday': '7:0-17:0', 'Saturday': '7:0-17:0', 'Sunday': '7:0-17:0', 'Thursday': '7:0-17:0', 'Tuesday': '7:0-17:0', 'Wednesday': '7:0-17:0'}, 'name': 'Inn At East Beach', 'review_count': 257, 'stars': 3.5}, vector=None, shard_key=None)]\n",
      "The best-rated Hotels is Parkside Inn located at Parkside Inn.\n"
     ]
    },
    {
     "data": {
      "text/plain": [
       "{'Name': 'Parkside Inn', 'Location': '424 Por La Mar Santa Barbara 93103'}"
      ]
     },
     "execution_count": 32,
     "metadata": {},
     "output_type": "execute_result"
    }
   ],
   "source": [
    "messages.append({'role': 'assistant', 'content': message}) # add ai response to history\n",
    "\n",
    "function_call = parse_function_call(message) # parse out function call name and args into json\n",
    "print(function_call)\n",
    "if function_call and function_call.get(\"name\") == \"get_category\":\n",
    "    args = function_call.get(\"arguments\")\n",
    "    restaurant = get_category.run(args)\n",
    "\n",
    "restaurant"
   ]
  },
  {
   "cell_type": "code",
   "execution_count": 33,
   "metadata": {},
   "outputs": [
    {
     "data": {
      "text/plain": [
       "[{'role': 'system',\n",
       "  'content': '\\nYou are an navigation assistant with access to these functions -\\n[\\n    {\\n        \"name\": \"get_category\",\\n        \"description\": \"get_category(location: str, Category: str) -> str - Get a business recommendation given location and category of user\\'s choice.        e.g. \\\\\"Name of restaurant\\\\\": Helena Avenue Bakery, \\\\\"Location\\\\\": 131 Anacapa St, Ste C Santa Barbara 93101 ,\\\\\"Category\\\\\": Food, Restaurants, Salad, Coffee & Tea\",\\n        \"parameters\": {\\n            \"type\": \"object\",\\n            \"properties\": {\\n                \"location\": {\\n                    \"description\": \"Current location of user.\",\\n                    \"type\": \"string\"\\n                },\\n                \"Category\": {\\n                    \"description\": \"Type of business that the user wants to go.\",\\n                    \"type\": \"string\"\\n                }\\n            },\\n            \"required\": [\\n                \"location\",\\n                \"Category\"\\n            ]\\n        }\\n    }\\n]\\n'},\n",
       " {'role': 'user',\n",
       "  'content': 'Im at 900 Embarcadero Del Mar, any hotels nearby?'},\n",
       " {'role': 'assistant',\n",
       "  'content': '<functioncall> {\"name\": \"get_category\", \"arguments\": \\'{\"location\": \"900 Embarcadero Del Mar\", \"Category\": \"Hotels\"}\\'}'},\n",
       " {'role': 'user',\n",
       "  'content': \"Function Response: {'Name': 'Parkside Inn', 'Location': '424 Por La Mar Santa Barbara 93103'}\"}]"
      ]
     },
     "execution_count": 33,
     "metadata": {},
     "output_type": "execute_result"
    }
   ],
   "source": [
    "messages.append({'role': 'user', 'content': 'Function Response: ' + str(restaurant)})\n",
    "messages"
   ]
  },
  {
   "cell_type": "code",
   "execution_count": 34,
   "metadata": {},
   "outputs": [
    {
     "data": {
      "text/plain": [
       "\"I found a hotel for you. It's called Parkside Inn. It is located at 424 Por La Mar, Santa Barbara 93103\""
      ]
     },
     "execution_count": 34,
     "metadata": {},
     "output_type": "execute_result"
    }
   ],
   "source": [
    "response = ollama.chat(model='calebfahlgren/natural-functions', messages=messages)\n",
    "response['message']['content']"
   ]
  },
  {
   "cell_type": "markdown",
   "metadata": {},
   "source": [
    "# Evalulate the model"
   ]
  },
  {
   "cell_type": "markdown",
   "metadata": {},
   "source": [
    "## Test truthfulness"
   ]
  },
  {
   "cell_type": "code",
   "execution_count": 61,
   "metadata": {},
   "outputs": [],
   "source": [
    "def isTruthful(name, address):\n",
    "    doesNameExist = client.search(\n",
    "            collection_name=f\"{collection_name}\",\n",
    "            query_filter=models.Filter(\n",
    "                must=[\n",
    "                    models.FieldCondition(\n",
    "                        key=\"name\",\n",
    "                        match=models.MatchValue(\n",
    "                            value=name,\n",
    "                        ),\n",
    "                    )\n",
    "                ]\n",
    "            ),\n",
    "            query_vector=embeddings,\n",
    "            limit=1,\n",
    "        )\n",
    "    doesAddressExist = client.search(\n",
    "            collection_name=f\"{collection_name}\",\n",
    "            query_filter=models.Filter(\n",
    "                must=[\n",
    "                    models.FieldCondition(\n",
    "                        key=\"full_address\",\n",
    "                        match=models.MatchValue(\n",
    "                            value=address,\n",
    "                        ),\n",
    "                    )\n",
    "                ]\n",
    "            ),\n",
    "            query_vector=embeddings,\n",
    "            limit=1,\n",
    "        )\n",
    "\n",
    "    if doesNameExist and doesAddressExist:\n",
    "        print(\"YES\")\n",
    "        return True\n",
    "    else:\n",
    "        print(\"FK NO\")\n",
    "        return False\n",
    "    \n",
    "def generateLLMOutput(message):\n",
    "    function_call = parse_function_call(message) # parse out function call name and args into json\n",
    "    print(function_call)\n",
    "    if function_call and function_call.get(\"name\") == \"get_category\":\n",
    "        args = function_call.get(\"arguments\")\n",
    "        output = get_category.run(args)\n",
    "        return output\n",
    "    return None\n"
   ]
  },
  {
   "cell_type": "code",
   "execution_count": 87,
   "metadata": {},
   "outputs": [
    {
     "name": "stdout",
     "output_type": "stream",
     "text": [
      "<re.Match object; span=(16, 121), match='\"name\": \"get_category\", \"arguments\": \\'{\"location>\n",
      "{'name': 'get_category', 'arguments': {'location': '900 Embarcadero Del Mar', 'Category': 'Restaurants'}}\n",
      "900 Embarcadero Del Mar Restaurants\n",
      "Query output: [ScoredPoint(id='a46c0b14-71ac-59ab-8825-ddd0f1a97b17', version=51, score=0.834775, payload={'categories': ['Restaurants', 'Burgers', 'Food', 'Ice Cream & Frozen Yogurt', 'American (Traditional)', 'Salad'], 'full_address': '900 Embarcadero Del Mar Isla Vista 93117', 'hours': None, 'name': \"Kyle's Isla Vista\", 'review_count': 12, 'stars': 2.5}, vector=None, shard_key=None), ScoredPoint(id='00f1dff8-0597-58c7-a355-00ed3515c954', version=13, score=0.834775, payload={'categories': ['Burgers', 'American (Traditional)', 'Sandwiches', 'Restaurants', 'Salad', 'Soup', 'Breakfast & Brunch'], 'full_address': '900 Embarcadero Del Mar Isla Vista 93117', 'hours': {'Friday': '9:0-21:0', 'Monday': '9:0-21:0', 'Saturday': '9:0-21:0', 'Sunday': '9:0-21:0', 'Thursday': '9:0-21:0', 'Tuesday': '9:0-21:0', 'Wednesday': '9:0-21:0'}, 'name': 'Silvergreens', 'review_count': 308, 'stars': 3.5}, vector=None, shard_key=None), ScoredPoint(id='71b6c5e3-b6c0-5141-beb7-ac6a368ae735', version=1, score=0.7379837, payload={'categories': ['Sushi Bars', 'Caterers', 'Food', 'Fast Food', 'Event Planning & Services', 'Japanese', 'Food Delivery Services', 'Korean', 'Restaurants', 'Specialty Food', 'Asian Fusion'], 'full_address': '955 Embarcadero Del Mar Goleta 93117', 'hours': {'Friday': '12:0-21:0', 'Monday': '12:0-21:0', 'Saturday': '12:0-21:0', 'Sunday': '12:0-21:0', 'Thursday': '12:0-21:0', 'Tuesday': '12:0-21:0'}, 'name': 'Sushiya Express', 'review_count': 163, 'stars': 3.5}, vector=None, shard_key=None)]\n",
      "The best-rated Restaurants is Kyle's Isla Vista located at Kyle's Isla Vista.\n",
      "YES\n",
      "<re.Match object; span=(16, 115), match='\"name\": \"get_category\", \"arguments\": \\'{\"location>\n",
      "{'name': 'get_category', 'arguments': {'location': '900 Embarcadero Del Mar', 'Category': 'Hotel'}}\n",
      "900 Embarcadero Del Mar Hotel\n",
      "Query output: []\n",
      "Truthfullness Score:  100.0 %\n"
     ]
    }
   ],
   "source": [
    "def evaluateModel():\n",
    "    numExist = 0\n",
    "    numTested = 0\n",
    "    testCases = ['Im at 900 Embarcadero Del Mar, any Restaurants nearby?', 'Im at 900 Embarcadero Del Mar, any hotels nearby?']\n",
    "    for i in testCases:\n",
    "        try:\n",
    "            response = ollama.chat(model='calebfahlgren/natural-functions', messages=[{'role': 'system','content': SYSTEM_PROMPT},{'role': 'user','content': i}])\n",
    "            message = (response['message']['content'])\n",
    "            output = generateLLMOutput(message)            \n",
    "            if (output and isTruthful(output['Name'], output['Location'])):\n",
    "                numExist += 1\n",
    "        except Exception as e:\n",
    "            pass\n",
    "        else:\n",
    "            numTested += 1\n",
    "        \n",
    "    truthfullnessScore = numExist / numTested * 100;\n",
    "    print(\"Truthfullness Score: \", truthfullnessScore, \"%\")\n",
    "\n",
    "evaluateModel()"
   ]
  },
  {
   "cell_type": "code",
   "execution_count": null,
   "metadata": {},
   "outputs": [],
   "source": [
    " "
   ]
  }
 ],
 "metadata": {
  "kernelspec": {
   "display_name": "Python 3",
   "language": "python",
   "name": "python3"
  },
  "language_info": {
   "codemirror_mode": {
    "name": "ipython",
    "version": 3
   },
   "file_extension": ".py",
   "mimetype": "text/x-python",
   "name": "python",
   "nbconvert_exporter": "python",
   "pygments_lexer": "ipython3",
   "version": "3.10.12"
  }
 },
 "nbformat": 4,
 "nbformat_minor": 2
}
