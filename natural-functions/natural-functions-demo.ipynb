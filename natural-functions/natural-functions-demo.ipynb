{
 "cells": [
  {
   "cell_type": "code",
   "execution_count": 2,
   "metadata": {},
   "outputs": [],
   "source": [
    "from langchain_core.utils.function_calling import convert_to_openai_function\n",
    "from langchain.pydantic_v1 import BaseModel, Field\n",
    "from langchain.tools import tool"
   ]
  },
  {
   "cell_type": "code",
   "execution_count": 3,
   "metadata": {},
   "outputs": [
    {
     "name": "stderr",
     "output_type": "stream",
     "text": [
      "/home/davis/miniconda3/envs/AI/lib/python3.11/site-packages/tqdm/auto.py:21: TqdmWarning: IProgress not found. Please update jupyter and ipywidgets. See https://ipywidgets.readthedocs.io/en/stable/user_install.html\n",
      "  from .autonotebook import tqdm as notebook_tqdm\n"
     ]
    }
   ],
   "source": [
    "import pandas as pd\n",
    "from qdrant_client import QdrantClient,models\n",
    "from sentence_transformers import SentenceTransformer\n",
    "from geopy.distance import geodesic\n"
   ]
  },
  {
   "cell_type": "code",
   "execution_count": 4,
   "metadata": {},
   "outputs": [
    {
     "name": "stderr",
     "output_type": "stream",
     "text": [
      "/home/davis/miniconda3/envs/AI/lib/python3.11/site-packages/huggingface_hub/file_download.py:1132: FutureWarning: `resume_download` is deprecated and will be removed in version 1.0.0. Downloads always resume when possible. If you want to force a new download, use `force_download=True`.\n",
      "  warnings.warn(\n",
      "/home/davis/miniconda3/envs/AI/lib/python3.11/site-packages/huggingface_hub/file_download.py:1132: FutureWarning: `resume_download` is deprecated and will be removed in version 1.0.0. Downloads always resume when possible. If you want to force a new download, use `force_download=True`.\n",
      "  warnings.warn(\n"
     ]
    }
   ],
   "source": [
    "client = QdrantClient(url=\"http://localhost:6333\")\n",
    "collection_name = \"no_coordinates_collection\"\n",
    "model = SentenceTransformer('sentence-transformers/all-MiniLM-L6-v2')\n",
    "    "
   ]
  },
  {
   "cell_type": "code",
   "execution_count": 5,
   "metadata": {},
   "outputs": [],
   "source": [
    "# I USED THIS FOR DEBUGGING\n",
    "# embeddings = model.encode('900 Embarcadero Del Mar')\n",
    "# print(len(embeddings))\n",
    "# output = client.search(\n",
    "#         collection_name=f\"{collection_name}\",\n",
    "#         query_filter=models.Filter(\n",
    "#             must=[\n",
    "#                 models.FieldCondition(\n",
    "#                     key=\"categories\",\n",
    "#                     match=models.MatchValue(\n",
    "#                         value='Hotels',\n",
    "#                     ),\n",
    "#                 )\n",
    "#             ]\n",
    "#         ),\n",
    "#         query_vector=embeddings,\n",
    "#         limit=3,\n",
    "#     )\n",
    "# print(output)"
   ]
  },
  {
   "cell_type": "markdown",
   "metadata": {},
   "source": [
    "# Define your tools!\n",
    "\n",
    "For this we create a Langchain tool for retrieving weather information and use the `convert_to_openai_function` to create the function definition that we will feed into the model"
   ]
  },
  {
   "cell_type": "code",
   "execution_count": 6,
   "metadata": {},
   "outputs": [
    {
     "data": {
      "text/plain": [
       "[{'name': 'get_category',\n",
       "  'description': 'get_category(location: str, Category: str) -> str - Get a business recommendation given location and category of user\\'s choice.        e.g. \"Name of restaurant\": Helena Avenue Bakery, \"Location\": 131 Anacapa St, Ste C Santa Barbara 93101 ,\"Category\": food, restaurants, bars',\n",
       "  'parameters': {'type': 'object',\n",
       "   'properties': {'location': {'description': 'Current location of user.',\n",
       "     'type': 'string'},\n",
       "    'Category': {'description': 'Type of business that the user wants to go.',\n",
       "     'type': 'string'}},\n",
       "   'required': ['location', 'Category']}}]"
      ]
     },
     "execution_count": 6,
     "metadata": {},
     "output_type": "execute_result"
    }
   ],
   "source": [
    "class SearchInput(BaseModel):\n",
    "    location: str = Field(description=\"Current location of user.\")\n",
    "    Category: str = Field(description=\"Type of business that the user wants to go.\")\n",
    "@tool(\"get_category\", args_schema=SearchInput)\n",
    "def get_category(location: str, Category: str) -> str:\n",
    "    \"\"\"Get a business recommendation given location and category of user's choice.\\\n",
    "        e.g. \"Name of restaurant\": Helena Avenue Bakery, \"Location\": 131 Anacapa St, Ste C Santa Barbara 93101 ,\"Category\": food, restaurants, bars \"\"\"\n",
    "    # print(location, Category)\n",
    "    address_embedding = model.encode(location)\n",
    "    # print(address_embedding)\n",
    "    output = client.search(\n",
    "        collection_name=f\"{collection_name}\",\n",
    "        query_filter=models.Filter(\n",
    "            must=[\n",
    "                models.FieldCondition(\n",
    "                    key=\"categories\",\n",
    "                    match=models.MatchValue(\n",
    "                        value=Category,\n",
    "                    ),\n",
    "                )\n",
    "            ]\n",
    "        ),\n",
    "        \n",
    "        query_vector=address_embedding,\n",
    "        limit=6,\n",
    "    )\n",
    "\n",
    "    # print('Query output:',output)\n",
    "    if len(output) == 0:\n",
    "        return None\n",
    "    best_point = max(output, key=lambda x: x.score)\n",
    "    poi_name = best_point.payload['name']\n",
    "    poi_address = best_point.payload['full_address']\n",
    "    latitude = best_point.payload['latitude']\n",
    "    longitude = best_point.payload['longitude']\n",
    "    categories = best_point.payload['categories']\n",
    "\n",
    "    # print(f\"The best-rated {Category} is {poi_name} located at {poi_address}.\")\n",
    "\n",
    "    return {\"name\": poi_name ,\"location\": poi_address, \"latitude\": latitude, \"longitude\": longitude, \"categories\": categories}\n",
    "\n",
    "tools = [get_category]\n",
    "functions = [convert_to_openai_function(t) for t in tools]\n",
    "functions"
   ]
  },
  {
   "cell_type": "markdown",
   "metadata": {},
   "source": [
    "# Invoke the Model\n",
    "\n",
    "Now we can prompt the model and pass the functions 🥳"
   ]
  },
  {
   "cell_type": "code",
   "execution_count": 7,
   "metadata": {},
   "outputs": [
    {
     "name": "stdout",
     "output_type": "stream",
     "text": [
      "\n",
      "You are an navigation assistant with access to these functions -\n",
      "[\n",
      "    {\n",
      "        \"name\": \"get_category\",\n",
      "        \"description\": \"get_category(location: str, Category: str) -> str - Get a business recommendation given location and category of user's choice.        e.g. \\\"Name of restaurant\\\": Helena Avenue Bakery, \\\"Location\\\": 131 Anacapa St, Ste C Santa Barbara 93101 ,\\\"Category\\\": food, restaurants, bars\",\n",
      "        \"parameters\": {\n",
      "            \"type\": \"object\",\n",
      "            \"properties\": {\n",
      "                \"location\": {\n",
      "                    \"description\": \"Current location of user.\",\n",
      "                    \"type\": \"string\"\n",
      "                },\n",
      "                \"Category\": {\n",
      "                    \"description\": \"Type of business that the user wants to go.\",\n",
      "                    \"type\": \"string\"\n",
      "                }\n",
      "            },\n",
      "            \"required\": [\n",
      "                \"location\",\n",
      "                \"Category\"\n",
      "            ]\n",
      "        }\n",
      "    }\n",
      "]\n",
      "\n"
     ]
    }
   ],
   "source": [
    "import ollama\n",
    "import json\n",
    "\n",
    "SYSTEM_PROMPT = f\"\"\"\n",
    "You are an navigation assistant with access to these functions -\n",
    "{json.dumps(functions, indent=4)}\n",
    "\"\"\"\n",
    "\n",
    "print (SYSTEM_PROMPT)"
   ]
  },
  {
   "cell_type": "code",
   "execution_count": 8,
   "metadata": {},
   "outputs": [],
   "source": [
    "import json\n",
    "import re\n",
    "from typing import Optional, Dict\n",
    "\n",
    "def parse_function_call(input_str: str) -> Optional[Dict[str, any]]:\n",
    "    \"\"\"\n",
    "    Parses a text string to find and extract a function call.\n",
    "    The function call is expected to be in the format:\n",
    "    <functioncall> {\"name\": \"<function_name>\", \"arguments\": \"<arguments_json_string>\"}\n",
    "\n",
    "    Args:\n",
    "        input_str (str): The text containing the function call.\n",
    "\n",
    "    Returns:\n",
    "        Optional[Dict[str, any]]: A dictionary with 'name' and 'arguments' if a function call is found,\n",
    "                                  otherwise None.\n",
    "    \"\"\"\n",
    "    # Regex pattern to extract 'name' and 'arguments'\n",
    "    pattern = r'\"name\":\\s*\"([^\"]+)\",\\s*\"arguments\":\\s*\\'(.*?)\\''\n",
    "\n",
    "    # Search with regex\n",
    "    match = re.search(pattern, input_str)\n",
    "    # print(match)\n",
    "    if match:\n",
    "        try:\n",
    "            name = match.group(1)\n",
    "            arguments_str = match.group(2)\n",
    "            arguments = json.loads(arguments_str)\n",
    "            return {\"name\": name, \"arguments\": arguments}\n",
    "        except json.JSONDecodeError:\n",
    "            return None\n",
    "    return None\n"
   ]
  },
  {
   "cell_type": "code",
   "execution_count": 9,
   "metadata": {},
   "outputs": [],
   "source": [
    "messages = [\n",
    "     {'role': 'system','content': SYSTEM_PROMPT}, \n",
    "     {'role': 'user','content': 'Im at 900 Embarcadero Del Mar, any cafes nearby?'},\n",
    "]\n",
    "\n",
    "response = ollama.chat(model='calebfahlgren/natural-functions', messages=messages)\n",
    "message = (response['message']['content'])"
   ]
  },
  {
   "cell_type": "code",
   "execution_count": 10,
   "metadata": {},
   "outputs": [
    {
     "data": {
      "text/plain": [
       "'<functioncall> {\"name\": \"get_category\", \"arguments\": \\'{\"location\": \"900 Embarcadero Del Mar\", \"Category\": \"cafes\"}\\'}'"
      ]
     },
     "execution_count": 10,
     "metadata": {},
     "output_type": "execute_result"
    }
   ],
   "source": [
    "message"
   ]
  },
  {
   "cell_type": "markdown",
   "metadata": {},
   "source": [
    "# Call the Function\n",
    "\n",
    "Here we pull the function out of `kwargs` and call our tool with the arguments"
   ]
  },
  {
   "cell_type": "code",
   "execution_count": 11,
   "metadata": {},
   "outputs": [
    {
     "name": "stdout",
     "output_type": "stream",
     "text": [
      "{'name': 'get_category', 'arguments': {'location': '900 Embarcadero Del Mar', 'Category': 'cafes'}}\n"
     ]
    },
    {
     "data": {
      "text/plain": [
       "{'name': 'The Patio Cafe Santa Barbara',\n",
       " 'location': '3007 De La Vina St 93105',\n",
       " 'latitude': 34.4386928,\n",
       " 'longitude': -119.7285101,\n",
       " 'categories': ['cafes', 'restaurants', 'breakfast & brunch']}"
      ]
     },
     "execution_count": 11,
     "metadata": {},
     "output_type": "execute_result"
    }
   ],
   "source": [
    "messages.append({'role': 'assistant', 'content': message}) # add ai response to history\n",
    "\n",
    "function_call = parse_function_call(message) # parse out function call name and args into json\n",
    "print(function_call)\n",
    "if function_call and function_call.get(\"name\") == \"get_category\":\n",
    "    args = function_call.get(\"arguments\")\n",
    "    restaurant = get_category.run(args)\n",
    "\n",
    "restaurant"
   ]
  },
  {
   "cell_type": "code",
   "execution_count": 12,
   "metadata": {},
   "outputs": [
    {
     "data": {
      "text/plain": [
       "[{'role': 'system',\n",
       "  'content': '\\nYou are an navigation assistant with access to these functions -\\n[\\n    {\\n        \"name\": \"get_category\",\\n        \"description\": \"get_category(location: str, Category: str) -> str - Get a business recommendation given location and category of user\\'s choice.        e.g. \\\\\"Name of restaurant\\\\\": Helena Avenue Bakery, \\\\\"Location\\\\\": 131 Anacapa St, Ste C Santa Barbara 93101 ,\\\\\"Category\\\\\": food, restaurants, bars\",\\n        \"parameters\": {\\n            \"type\": \"object\",\\n            \"properties\": {\\n                \"location\": {\\n                    \"description\": \"Current location of user.\",\\n                    \"type\": \"string\"\\n                },\\n                \"Category\": {\\n                    \"description\": \"Type of business that the user wants to go.\",\\n                    \"type\": \"string\"\\n                }\\n            },\\n            \"required\": [\\n                \"location\",\\n                \"Category\"\\n            ]\\n        }\\n    }\\n]\\n'},\n",
       " {'role': 'user',\n",
       "  'content': 'Im at 900 Embarcadero Del Mar, any cafes nearby?'},\n",
       " {'role': 'assistant',\n",
       "  'content': '<functioncall> {\"name\": \"get_category\", \"arguments\": \\'{\"location\": \"900 Embarcadero Del Mar\", \"Category\": \"cafes\"}\\'}'},\n",
       " {'role': 'user',\n",
       "  'content': \"Function Response: {'name': 'The Patio Cafe Santa Barbara', 'location': '3007 De La Vina St 93105', 'latitude': 34.4386928, 'longitude': -119.7285101, 'categories': ['cafes', 'restaurants', 'breakfast & brunch']}\"}]"
      ]
     },
     "execution_count": 12,
     "metadata": {},
     "output_type": "execute_result"
    }
   ],
   "source": [
    "messages.append({'role': 'user', 'content': 'Function Response: ' + str(restaurant)})\n",
    "messages"
   ]
  },
  {
   "cell_type": "code",
   "execution_count": 13,
   "metadata": {},
   "outputs": [
    {
     "data": {
      "text/plain": [
       "'The Patio Cafe Santa Barbara is a cafe nearby you at 3007 De La Vina St 93105. You can enjoy their food in the categories of cafes, restaurants, and breakfast & brunch'"
      ]
     },
     "execution_count": 13,
     "metadata": {},
     "output_type": "execute_result"
    }
   ],
   "source": [
    "response = ollama.chat(model='calebfahlgren/natural-functions', messages=messages)\n",
    "response['message']['content']"
   ]
  },
  {
   "cell_type": "markdown",
   "metadata": {},
   "source": [
    "# Evalulate the model"
   ]
  },
  {
   "cell_type": "code",
   "execution_count": 16,
   "metadata": {},
   "outputs": [],
   "source": [
    "def isTruthful(name, address):\n",
    "    doesPOIExist = client.scroll(\n",
    "            collection_name=f\"{collection_name}\",\n",
    "            scroll_filter  =models.Filter(\n",
    "                must=[\n",
    "                    models.FieldCondition(\n",
    "                        key=\"name\",\n",
    "                        match=models.MatchValue(\n",
    "                            value=name,\n",
    "                        ),\n",
    "                    ),\n",
    "                    models.FieldCondition(\n",
    "                        key=\"full_address\",\n",
    "                        match=models.MatchValue(\n",
    "                            value=address,\n",
    "                        ),\n",
    "                    )\n",
    "                ]\n",
    "            ),\n",
    "        )\n",
    "\n",
    "    if doesPOIExist:\n",
    "        print(\"Is Truthful: YES\")\n",
    "        return True\n",
    "    else:\n",
    "        print(\"Is Truthful: NO\")\n",
    "        return False\n",
    "\n",
    "def isNear(location1, location2, minDist):\n",
    "    distance = geodesic(location1, location2).kilometers\n",
    "    if (distance > minDist):\n",
    "        print(f\"Is Near: NO, Min Dist is {minDist}km, POI is {distance}km away\");\n",
    "        return False\n",
    "    print(f\"Is Near: YES, Min Dist is {minDist}km, POI is {distance}km away\");\n",
    "    return True\n",
    "\n",
    "def isSemanticlyRelated(userChosenCategory, outputCategories):\n",
    "    # print(userChosenCategory)\n",
    "    # print([cat.lower() for cat in outputCategories])\n",
    "    if (userChosenCategory in [cat.lower() for cat in outputCategories]):\n",
    "        print(\"Is Semantically Related: YES\")\n",
    "        return True\n",
    "    else:\n",
    "        print(\"Is Semantically Related:: NO\")\n",
    "        return False\n",
    "\n",
    "\n",
    "def generateLLMOutput(message):\n",
    "    function_call = parse_function_call(message) # parse out function call name and args into json\n",
    "    print(\"Input: \", function_call)\n",
    "    if function_call and function_call.get(\"name\") == \"get_category\":\n",
    "        args = function_call.get(\"arguments\")\n",
    "        output = get_category.run(args)\n",
    "        if output is None:\n",
    "            return None\n",
    "        return output \n",
    "\n",
    "    return None\n"
   ]
  },
  {
   "cell_type": "code",
   "execution_count": 18,
   "metadata": {},
   "outputs": [
    {
     "name": "stdout",
     "output_type": "stream",
     "text": [
      "Running testcase 1/35 --------------------------------------------------------\n",
      "Input:  {'name': 'get_category', 'arguments': {'location': '49 Glen Annie Rd 93117', 'Category': 'restaurants'}}\n",
      "Query output: {'name': 'Frog Bar & Grill', 'location': '405 Glen Annie Rd 93117', 'latitude': 34.4429379178, 'longitude': -119.8800369458, 'categories': ['restaurants', 'american (traditional)', 'nightlife', 'bars', 'cocktail bars']}\n",
      "Is Truthful: YES\n",
      "Is Near: YES, Min Dist is 10km, POI is 1.1437489122094628km away\n",
      "Is Semantically Related: YES\n",
      "Running testcase 2/35 --------------------------------------------------------\n",
      "Input:  {'name': 'get_category', 'arguments': {'location': '49 Glen Annie Rd 93117', 'Category': 'hotels'}}\n",
      "Query output: {'name': 'Carpinteria Shores', 'location': '4975 Sandyland Rd 93013', 'latitude': 34.3940407, 'longitude': -119.525464, 'categories': ['hotels', 'hotels & travel', 'event planning & services']}\n",
      "Is Truthful: YES\n",
      "Is Near: NO, Min Dist is 10km, POI is 32.18224551722811km away\n",
      "Is Semantically Related: YES\n",
      "Running testcase 3/35 --------------------------------------------------------\n",
      "Input:  {'name': 'get_category', 'arguments': {'location': '49 Glen Annie Rd 93117', 'Category': 'church'}}\n",
      "skipping \n",
      "Running testcase 4/35 --------------------------------------------------------\n",
      "Input:  {'name': 'get_category', 'arguments': {'location': '49 Glen Annie Rd 93117', 'Category': 'bars'}}\n",
      "Query output: {'name': 'Frog Bar & Grill', 'location': '405 Glen Annie Rd 93117', 'latitude': 34.4429379178, 'longitude': -119.8800369458, 'categories': ['restaurants', 'american (traditional)', 'nightlife', 'bars', 'cocktail bars']}\n",
      "Is Truthful: YES\n",
      "Is Near: YES, Min Dist is 10km, POI is 1.1437489122094628km away\n",
      "Is Semantically Related: YES\n",
      "Running testcase 5/35 --------------------------------------------------------\n",
      "Input:  {'name': 'get_category', 'arguments': {'location': '49 Glen Annie Rd 93117', 'Category': 'food'}}\n",
      "Query output: {'name': 'Gold Medal Wine Club', 'location': '5330 Debbie Rd, Ste 200 93111', 'latitude': 34.4381401, 'longitude': -119.8102029, 'categories': ['arts & entertainment', 'wineries', 'beer', 'wine & spirits', 'food']}\n",
      "Is Truthful: YES\n",
      "Is Near: YES, Min Dist is 10km, POI is 5.690640823679546km away\n",
      "Is Semantically Related: YES\n",
      "Running testcase 6/35 --------------------------------------------------------\n",
      "Input:  None\n",
      "skipping \n",
      "Running testcase 7/35 --------------------------------------------------------\n",
      "Input:  {'name': 'get_category', 'arguments': {'location': '628 W Micheltorena St 93101', 'Category': 'hotels'}}\n",
      "Query output: {'name': 'Cheshire Cat Inn', 'location': '36 W Valerio St 93101', 'latitude': 34.4272075, 'longitude': -119.7120215, 'categories': ['bed & breakfast', 'event planning & services', 'hotels & travel', 'hotels', 'guest houses']}\n",
      "Is Truthful: YES\n",
      "Is Near: YES, Min Dist is 10km, POI is 0.9588379485056803km away\n",
      "Is Semantically Related: YES\n",
      "Running testcase 8/35 --------------------------------------------------------\n",
      "Input:  {'name': 'get_category', 'arguments': {'location': '628 W Micheltorena St 93101', 'Category': 'churches'}}\n",
      "Query output: {'name': 'Ocean Hills Covenant Church', 'location': '721 East Cota St 93103', 'latitude': 34.4269638, 'longitude': -119.6893884, 'categories': ['churches', 'religious organizations']}\n",
      "Is Truthful: YES\n",
      "Is Near: YES, Min Dist is 10km, POI is 2.592940537426691km away\n",
      "Is Semantically Related: YES\n",
      "Running testcase 9/35 --------------------------------------------------------\n",
      "Input:  {'name': 'get_category', 'arguments': {'location': '628 W Micheltorena St 93101', 'Category': 'bars'}}\n",
      "Query output: {'name': 'Wine Spa Santa Barbara', 'location': '29 W Micheltorena St 93101', 'latitude': 34.4252075, 'longitude': -119.7089937, 'categories': ['wine bars', 'bars', 'day spas', 'nightlife', 'beauty & spas']}\n",
      "Is Truthful: YES\n",
      "Is Near: YES, Min Dist is 10km, POI is 0.9254686722791333km away\n",
      "Is Semantically Related: YES\n",
      "Running testcase 10/35 --------------------------------------------------------\n",
      "Input:  {'name': 'get_category', 'arguments': {'location': '628 W Micheltorena St 93101', 'Category': 'food'}}\n",
      "Query output: {'name': 'Riviera Market & Liquor', 'location': '416 E Micheltorena St 93101', 'latitude': 34.4307771, 'longitude': -119.7031754, 'categories': ['beer', 'wine & spirits', 'grocery', 'food']}\n",
      "Is Truthful: YES\n",
      "Is Near: YES, Min Dist is 10km, POI is 1.7419316429433078km away\n",
      "Is Semantically Related: YES\n",
      "Running testcase 11/35 --------------------------------------------------------\n",
      "Input:  {'name': 'get_category', 'arguments': {'location': '38 W Victoria St, Ste 101 93101', 'Category': 'restaurants'}}\n",
      "Query output: {'name': 'The Garden', 'location': '38 W Victoria St, Ste 101 93101', 'latitude': 34.4236075, 'longitude': -119.7070539, 'categories': ['trivia hosts', 'nightlife', 'sports bars', 'beer gardens', 'event planning & services', 'restaurants', 'bars', 'beer bar']}\n",
      "Is Truthful: YES\n",
      "Is Near: YES, Min Dist is 10km, POI is 5.6221606812935514e-05km away\n",
      "Is Semantically Related: YES\n",
      "Running testcase 12/35 --------------------------------------------------------\n",
      "Input:  None\n",
      "skipping \n",
      "Running testcase 13/35 --------------------------------------------------------\n",
      "Input:  {'name': 'get_category', 'arguments': {'location': '38 W Victoria St, Ste 101 93101 ', 'Category': 'churches'}}\n",
      "Query output: {'name': 'Christ Presbyterian Church', 'location': '36 E Victoria St 93101', 'latitude': 34.4250708, 'longitude': -119.7044772, 'categories': ['churches', 'religious organizations']}\n",
      "Is Truthful: YES\n",
      "Is Near: YES, Min Dist is 10km, POI is 0.2871184052736002km away\n",
      "Is Semantically Related: YES\n",
      "Running testcase 14/35 --------------------------------------------------------\n",
      "Input:  {'name': 'get_category', 'arguments': {'location': '38 W Victoria St, Ste 101 93101', 'Category': 'bars'}}\n",
      "Query output: {'name': 'The Garden', 'location': '38 W Victoria St, Ste 101 93101', 'latitude': 34.4236075, 'longitude': -119.7070539, 'categories': ['trivia hosts', 'nightlife', 'sports bars', 'beer gardens', 'event planning & services', 'restaurants', 'bars', 'beer bar']}\n",
      "Is Truthful: YES\n",
      "Is Near: YES, Min Dist is 10km, POI is 5.6221606812935514e-05km away\n",
      "Is Semantically Related: YES\n",
      "Running testcase 15/35 --------------------------------------------------------\n",
      "Input:  {'name': 'get_category', 'arguments': {'location': '38 W Victoria St, Ste 101 93101', 'Category': 'food'}}\n",
      "Query output: {'name': \"I'a Fish Market and Cafe\", 'location': '38 W Victoria St, Ste 119 93101', 'latitude': 34.4235941, 'longitude': -119.707018, 'categories': ['poke', 'seafood', 'american (traditional)', 'specialty food', 'seafood markets', 'food', 'restaurants']}\n",
      "Is Truthful: YES\n",
      "Is Near: YES, Min Dist is 10km, POI is 0.0036508483485687662km away\n",
      "Is Semantically Related: YES\n",
      "Running testcase 16/35 --------------------------------------------------------\n",
      "Input:  {'name': 'get_category', 'arguments': {'location': '7127 Hollister Ave, Ste 30 93117', 'Category': 'restaurants'}}\n",
      "Query output: {'name': 'Baja Fresh', 'location': '7127 Hollister Ave, Ste 30 93117', 'latitude': 34.4282858, 'longitude': -119.8766701, 'categories': ['mexican', 'restaurants', 'tex-mex']}\n",
      "Is Truthful: YES\n",
      "Is Near: YES, Min Dist is 10km, POI is 0.19654489044105183km away\n",
      "Is Semantically Related: YES\n",
      "Running testcase 17/35 --------------------------------------------------------\n",
      "Input:  {'name': 'get_category', 'arguments': {'location': '7127 Hollister Ave, Ste 30 93117', 'Category': 'hotels'}}\n",
      "Query output: {'name': 'The Ritz-Carlton Bacara, Santa Barbara', 'location': '8301 Hollister Ave 93117', 'latitude': 34.4345451317, 'longitude': -119.9206727994, 'categories': ['restaurants', 'beauty & spas', 'american (new)', 'event planning & services', 'hotels', 'massage', 'resorts', 'day spas', 'hotels & travel', 'venues & event spaces']}\n",
      "Is Truthful: YES\n",
      "Is Near: YES, Min Dist is 10km, POI is 4.001071855076785km away\n",
      "Is Semantically Related: YES\n",
      "Running testcase 18/35 --------------------------------------------------------\n",
      "Input:  {'name': 'get_category', 'arguments': {'location': '7127 Hollister Ave, Ste 30 93117', 'Category': 'churches'}}\n",
      "Query output: {'name': \"St Raphael's Catholic Church\", 'location': '5444 Hollister Ave 93111', 'latitude': 34.4358401, 'longitude': -119.8147475, 'categories': ['churches', 'religious organizations']}\n",
      "Is Truthful: YES\n",
      "Is Near: YES, Min Dist is 10km, POI is 5.805277471368936km away\n",
      "Is Semantically Related: YES\n",
      "Running testcase 19/35 --------------------------------------------------------\n",
      "Input:  {'name': 'get_category', 'arguments': {'location': '7127 Hollister Ave, Ste 30 93117', 'Category': 'bars'}}\n",
      "Query output: {'name': \"'O' Bar + Kitchen\", 'location': '8301 Hollister Ave 93117', 'latitude': 34.434, 'longitude': -119.9198501, 'categories': ['lounges', 'cocktail bars', 'nightlife', 'bars']}\n",
      "Is Truthful: YES\n",
      "Is Near: YES, Min Dist is 10km, POI is 3.9186561557407784km away\n",
      "Is Semantically Related: YES\n",
      "Running testcase 20/35 --------------------------------------------------------\n",
      "Input:  {'name': 'get_category', 'arguments': {'location': '7127 Hollister Ave, Ste 30 93117', 'Category': 'food'}}\n",
      "Query output: {'name': 'Phamous Cafe', 'location': '7127 Hollister Ave, Ste 25 93117', 'latitude': 34.428242, 'longitude': -119.876408, 'categories': ['food', 'vietnamese', 'restaurants', 'bubble tea']}\n",
      "Is Truthful: YES\n",
      "Is Near: YES, Min Dist is 10km, POI is 0.2113711325925261km away\n",
      "Is Semantically Related: YES\n",
      "Running testcase 21/35 --------------------------------------------------------\n",
      "Input:  None\n",
      "skipping \n",
      "Running testcase 22/35 --------------------------------------------------------\n",
      "Input:  {'name': 'get_category', 'arguments': {'location': '163 S Turnpike Rd 93111', 'Category': 'hotel'}}\n",
      "skipping \n",
      "Running testcase 23/35 --------------------------------------------------------\n",
      "Input:  {'name': 'get_category', 'arguments': {'location': '163 S Turnpike Rd 93111', 'Category': 'churches'}}\n",
      "Query output: {'name': 'St Joseph Catholic Church', 'location': '1532 Linden Ave 93013', 'latitude': 34.405589, 'longitude': -119.514764, 'categories': ['churches', 'religious organizations']}\n",
      "Is Truthful: YES\n",
      "Is Near: NO, Min Dist is 10km, POI is 25.592720348005372km away\n",
      "Is Semantically Related: YES\n",
      "Running testcase 24/35 --------------------------------------------------------\n",
      "Input:  {'name': 'get_category', 'arguments': {'location': '163 S Turnpike Rd 93111', 'Category': 'bars'}}\n",
      "Query output: {'name': 'Jane', 'location': '1311 State St 93101', 'latitude': 34.4243524, 'longitude': -119.7064283, 'categories': ['restaurants', 'food', 'american (new)', 'wine bars', 'nightlife', 'venues & event spaces', 'bars', 'event planning & services']}\n",
      "Is Truthful: YES\n",
      "Is Near: YES, Min Dist is 10km, POI is 7.864452636497406km away\n",
      "Is Semantically Related: YES\n",
      "Running testcase 25/35 --------------------------------------------------------\n",
      "Input:  None\n",
      "skipping \n",
      "Running testcase 26/35 --------------------------------------------------------\n",
      "Input:  {'name': 'get_category', 'arguments': {'location': '955 La Paz Rd 93108', 'Category': 'food'}}\n",
      "Query output: {'name': 'Sandpiper Liquors', 'location': '2262 Ortega Hill Rd 93067', 'latitude': 34.421859937, 'longitude': -119.6011422433, 'categories': ['food', 'beer', 'wine & spirits']}\n",
      "Is Truthful: YES\n",
      "Is Near: YES, Min Dist is 10km, POI is 6.3894916087686635km away\n",
      "Is Semantically Related:: NO\n",
      "Running testcase 27/35 --------------------------------------------------------\n",
      "Input:  {'name': 'get_category', 'arguments': {'location': '955 La Paz Rd 93108', 'Category': 'hotels'}}\n",
      "Query output: {'name': 'Summerland Inn', 'location': '2161 Ortega Hill Rd 93067', 'latitude': 34.421595, 'longitude': -119.6045685, 'categories': ['hotels', 'hotels & travel', 'bed & breakfast', 'event planning & services']}\n",
      "Is Truthful: YES\n",
      "Is Near: YES, Min Dist is 10km, POI is 6.133081102816095km away\n",
      "Is Semantically Related: YES\n",
      "Running testcase 28/35 --------------------------------------------------------\n",
      "Input:  {'name': 'get_category', 'arguments': {'location': '955 La Paz Rd 93108', 'Category': 'churches'}}\n",
      "Query output: {'name': 'Mission Santa Barbara', 'location': '2201 Laguna St 93105', 'latitude': 34.438201, 'longitude': -119.713556, 'categories': ['churches', 'arts & entertainment', 'museums', 'religious organizations', 'landmarks & historical buildings', 'public services & government']}\n",
      "Is Truthful: YES\n",
      "Is Near: YES, Min Dist is 10km, POI is 4.9660271910794105km away\n",
      "Is Semantically Related: YES\n",
      "Running testcase 29/35 --------------------------------------------------------\n",
      "Input:  {'name': 'get_category', 'arguments': {'location': '955 La Paz Rd 93108', 'Category': 'bars'}}\n",
      "Query output: {'name': 'Still - Elevate Your Ethanol', 'location': '37 E Ortega St 93101', 'latitude': 34.4196913, 'longitude': -119.6972245, 'categories': ['cocktail bars', 'home & garden', 'bars', 'nightlife', 'antiques', 'beer', 'wine & spirits', 'shopping', 'food']}\n",
      "Is Truthful: YES\n",
      "Is Near: YES, Min Dist is 10km, POI is 4.725155828853402km away\n",
      "Is Semantically Related: YES\n",
      "Running testcase 30/35 --------------------------------------------------------\n",
      "Input:  None\n",
      "skipping \n",
      "Running testcase 31/35 --------------------------------------------------------\n",
      "Input:  {'name': 'get_category', 'arguments': {'location': '3739 Mariana Way 93105', 'Category': 'restaurants'}}\n",
      "Query output: {'name': 'Santa Barbara Harbor & Seafood Festival', 'location': '141-153 Harbor Way 93109', 'latitude': 34.4035193575, 'longitude': -119.6938347816, 'categories': ['food', 'local flavor', 'seafood', 'arts & entertainment', 'shopping', 'festivals', 'restaurants', 'arts & crafts']}\n",
      "Is Truthful: YES\n",
      "Is Near: YES, Min Dist is 10km, POI is 5.722251846847996km away\n",
      "Is Semantically Related: YES\n",
      "Running testcase 32/35 --------------------------------------------------------\n",
      "Input:  {'name': 'get_category', 'arguments': {'location': '3739 Mariana Way 93105', 'Category': 'hotels'}}\n",
      "Query output: {'name': 'Pacific Crest Hotel Santa Barbara', 'location': '433 Corona Del Mar 93103', 'latitude': 34.4183468, 'longitude': -119.6713591, 'categories': ['hotels', 'home services', 'hotels & travel', 'real estate', 'apartments', 'event planning & services']}\n",
      "Is Truthful: YES\n",
      "Is Near: YES, Min Dist is 10km, POI is 7.139149003761259km away\n",
      "Is Semantically Related: YES\n",
      "Running testcase 33/35 --------------------------------------------------------\n",
      "Input:  {'name': 'get_category', 'arguments': {'location': '3739 Mariana Way 93105', 'Category': 'churches'}}\n",
      "Query output: {'name': 'Mission Santa Barbara', 'location': '2201 Laguna St 93105', 'latitude': 34.438201, 'longitude': -119.713556, 'categories': ['churches', 'arts & entertainment', 'museums', 'religious organizations', 'landmarks & historical buildings', 'public services & government']}\n",
      "Is Truthful: YES\n",
      "Is Near: YES, Min Dist is 10km, POI is 3.3216613042643552km away\n",
      "Is Semantically Related: YES\n",
      "Running testcase 34/35 --------------------------------------------------------\n",
      "Input:  {'name': 'get_category', 'arguments': {'location': '3739 Mariana Way 93105', 'Category': 'bars'}}\n",
      "Query output: {'name': 'Brophy Bros - Santa Barbara', 'location': '119 Harbor Way 93109', 'latitude': 34.4037593, 'longitude': -119.6939922, 'categories': ['cocktail bars', 'fish & chips', 'nightlife', 'seafood', 'restaurants', 'bars']}\n",
      "Is Truthful: YES\n",
      "Is Near: YES, Min Dist is 10km, POI is 5.696534694769822km away\n",
      "Is Semantically Related: YES\n",
      "Running testcase 35/35 --------------------------------------------------------\n",
      "Input:  None\n",
      "skipping \n",
      "Truthfulness Score:  77.14285714285715 %\n",
      "Spatial Awareness Score:  71.42857142857143 %\n",
      "Semantic Relatedness Score:  74.28571428571429 %\n"
     ]
    }
   ],
   "source": [
    "MIN_DIST_KM = 10\n",
    "\n",
    "def evaluateModel():\n",
    "    numTruthful = 0\n",
    "    numNear = 0\n",
    "    numSemanticallyRelated = 0\n",
    "    numTested = 0\n",
    "    locations = [\n",
    "\n",
    "['49 Glen Annie Rd 93117',  34.435061, -119.872007],\n",
    "['628 W Micheltorena St 93101',  34.419218, -119.716002],\n",
    "['38 W Victoria St, Ste 101 93101 ', 34.423608 ,-119.707054],\n",
    "['7127 Hollister Ave, Ste 30 93117',  34.429918, -119.877502],\n",
    " ['163 S Turnpike Rd 93111',  34.437691, -119.790462],\n",
    "  ['955 La Paz Rd 93108'  ,34.450364 ,-119.661552],\n",
    "  [ '3739 Mariana Way 93105'  ,34.429008, -119.747950],\n",
    "    ]\n",
    "\n",
    "    categories = ['restaurants', 'hotels', 'churches', 'bars', 'food']\n",
    "\n",
    "    count = 1\n",
    "\n",
    "    for i in locations:\n",
    "        for j in categories:\n",
    "            print(f\"Running testcase {count}/{len(locations) * len(categories)} --------------------------------------------------------\")\n",
    "            count += 1\n",
    "\n",
    "            try:\n",
    "                response = ollama.chat(model='calebfahlgren/natural-functions', messages=[{'role': 'system','content': SYSTEM_PROMPT},\n",
    "                                                                                        {'role': 'user','content': f\"Im at {i[0]}, any {j} nearby?\"}])\n",
    "                message = (response['message']['content'])\n",
    "                output = generateLLMOutput(message) \n",
    "                if output is None:\n",
    "                    numTested += 1\n",
    "                    print('skipping ')\n",
    "                    continue\n",
    "                print(\"Query output:\", output)\n",
    "\n",
    "                if (output and isTruthful(output['name'], output['location'])):\n",
    "                    numTruthful += 1\n",
    "\n",
    "                if (output and isNear((i[1], i[2]), (output[\"latitude\"], output['longitude']), MIN_DIST_KM)):\n",
    "                    numNear += 1\n",
    "\n",
    "                if (output and isSemanticlyRelated(j, output['categories'])):\n",
    "                    numSemanticallyRelated += 1\n",
    "            \n",
    "            except Exception as e:\n",
    "                print(\"Error \", e)\n",
    "            \n",
    "            numTested += 1\n",
    "        \n",
    "    truthfullnessScore = numTruthful / numTested * 100;\n",
    "    print(\"Truthfulness Score: \", truthfullnessScore, \"%\")\n",
    "\n",
    "    spatialAwarenessScore = numNear / numTested * 100;\n",
    "    print(\"Spatial Awareness Score: \", spatialAwarenessScore, \"%\")\n",
    "\n",
    "    semanticRelatedScore = numSemanticallyRelated / numTested * 100;\n",
    "    print(\"Semantic Relatedness Score: \", semanticRelatedScore, \"%\")\n",
    "\n",
    "evaluateModel()"
   ]
  },
  {
   "cell_type": "code",
   "execution_count": null,
   "metadata": {},
   "outputs": [],
   "source": []
  }
 ],
 "metadata": {
  "kernelspec": {
   "display_name": "Python 3",
   "language": "python",
   "name": "python3"
  },
  "language_info": {
   "codemirror_mode": {
    "name": "ipython",
    "version": 3
   },
   "file_extension": ".py",
   "mimetype": "text/x-python",
   "name": "python",
   "nbconvert_exporter": "python",
   "pygments_lexer": "ipython3",
   "version": "3.11.0"
  }
 },
 "nbformat": 4,
 "nbformat_minor": 2
}
