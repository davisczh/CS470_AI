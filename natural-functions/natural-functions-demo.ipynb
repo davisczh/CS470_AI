{
 "cells": [
  {
   "cell_type": "code",
   "execution_count": 54,
   "metadata": {},
   "outputs": [
    {
     "name": "stderr",
     "output_type": "stream",
     "text": [
      "huggingface/tokenizers: The current process just got forked, after parallelism has already been used. Disabling parallelism to avoid deadlocks...\n",
      "To disable this warning, you can either:\n",
      "\t- Avoid using `tokenizers` before the fork if possible\n",
      "\t- Explicitly set the environment variable TOKENIZERS_PARALLELISM=(true | false)\n"
     ]
    },
    {
     "name": "stdout",
     "output_type": "stream",
     "text": [
      "Requirement already satisfied: langchain_openai in /home/davis/miniconda3/envs/AI/lib/python3.11/site-packages (0.1.6)\n",
      "Requirement already satisfied: langchain in /home/davis/miniconda3/envs/AI/lib/python3.11/site-packages (0.1.20)\n",
      "Requirement already satisfied: langchain_experimental in /home/davis/miniconda3/envs/AI/lib/python3.11/site-packages (0.0.58)\n",
      "Requirement already satisfied: ollama in /home/davis/miniconda3/envs/AI/lib/python3.11/site-packages (0.2.0)\n",
      "Requirement already satisfied: langchain-core<0.2.0,>=0.1.46 in /home/davis/miniconda3/envs/AI/lib/python3.11/site-packages (from langchain_openai) (0.1.52)\n",
      "Requirement already satisfied: openai<2.0.0,>=1.24.0 in /home/davis/miniconda3/envs/AI/lib/python3.11/site-packages (from langchain_openai) (1.28.1)\n",
      "Requirement already satisfied: tiktoken<1,>=0.5.2 in /home/davis/miniconda3/envs/AI/lib/python3.11/site-packages (from langchain_openai) (0.6.0)\n",
      "Requirement already satisfied: PyYAML>=5.3 in /home/davis/miniconda3/envs/AI/lib/python3.11/site-packages (from langchain) (6.0.1)\n",
      "Requirement already satisfied: SQLAlchemy<3,>=1.4 in /home/davis/miniconda3/envs/AI/lib/python3.11/site-packages (from langchain) (2.0.30)\n",
      "Requirement already satisfied: aiohttp<4.0.0,>=3.8.3 in /home/davis/miniconda3/envs/AI/lib/python3.11/site-packages (from langchain) (3.9.5)\n",
      "Requirement already satisfied: dataclasses-json<0.7,>=0.5.7 in /home/davis/miniconda3/envs/AI/lib/python3.11/site-packages (from langchain) (0.6.6)\n",
      "Requirement already satisfied: langchain-community<0.1,>=0.0.38 in /home/davis/miniconda3/envs/AI/lib/python3.11/site-packages (from langchain) (0.0.38)\n",
      "Requirement already satisfied: langchain-text-splitters<0.1,>=0.0.1 in /home/davis/miniconda3/envs/AI/lib/python3.11/site-packages (from langchain) (0.0.1)\n",
      "Requirement already satisfied: langsmith<0.2.0,>=0.1.17 in /home/davis/miniconda3/envs/AI/lib/python3.11/site-packages (from langchain) (0.1.57)\n",
      "Requirement already satisfied: numpy<2,>=1 in /home/davis/miniconda3/envs/AI/lib/python3.11/site-packages (from langchain) (1.26.4)\n",
      "Requirement already satisfied: pydantic<3,>=1 in /home/davis/miniconda3/envs/AI/lib/python3.11/site-packages (from langchain) (2.7.1)\n",
      "Requirement already satisfied: requests<3,>=2 in /home/davis/miniconda3/envs/AI/lib/python3.11/site-packages (from langchain) (2.31.0)\n",
      "Requirement already satisfied: tenacity<9.0.0,>=8.1.0 in /home/davis/miniconda3/envs/AI/lib/python3.11/site-packages (from langchain) (8.3.0)\n",
      "Requirement already satisfied: httpx<0.28.0,>=0.27.0 in /home/davis/miniconda3/envs/AI/lib/python3.11/site-packages (from ollama) (0.27.0)\n",
      "Requirement already satisfied: aiosignal>=1.1.2 in /home/davis/miniconda3/envs/AI/lib/python3.11/site-packages (from aiohttp<4.0.0,>=3.8.3->langchain) (1.3.1)\n",
      "Requirement already satisfied: attrs>=17.3.0 in /home/davis/miniconda3/envs/AI/lib/python3.11/site-packages (from aiohttp<4.0.0,>=3.8.3->langchain) (23.2.0)\n",
      "Requirement already satisfied: frozenlist>=1.1.1 in /home/davis/miniconda3/envs/AI/lib/python3.11/site-packages (from aiohttp<4.0.0,>=3.8.3->langchain) (1.4.1)\n",
      "Requirement already satisfied: multidict<7.0,>=4.5 in /home/davis/miniconda3/envs/AI/lib/python3.11/site-packages (from aiohttp<4.0.0,>=3.8.3->langchain) (6.0.5)\n",
      "Requirement already satisfied: yarl<2.0,>=1.0 in /home/davis/miniconda3/envs/AI/lib/python3.11/site-packages (from aiohttp<4.0.0,>=3.8.3->langchain) (1.9.4)\n",
      "Requirement already satisfied: marshmallow<4.0.0,>=3.18.0 in /home/davis/miniconda3/envs/AI/lib/python3.11/site-packages (from dataclasses-json<0.7,>=0.5.7->langchain) (3.21.2)\n",
      "Requirement already satisfied: typing-inspect<1,>=0.4.0 in /home/davis/miniconda3/envs/AI/lib/python3.11/site-packages (from dataclasses-json<0.7,>=0.5.7->langchain) (0.9.0)\n",
      "Requirement already satisfied: anyio in /home/davis/miniconda3/envs/AI/lib/python3.11/site-packages (from httpx<0.28.0,>=0.27.0->ollama) (4.3.0)\n",
      "Requirement already satisfied: certifi in /home/davis/miniconda3/envs/AI/lib/python3.11/site-packages (from httpx<0.28.0,>=0.27.0->ollama) (2024.2.2)\n",
      "Requirement already satisfied: httpcore==1.* in /home/davis/miniconda3/envs/AI/lib/python3.11/site-packages (from httpx<0.28.0,>=0.27.0->ollama) (1.0.5)\n",
      "Requirement already satisfied: idna in /home/davis/miniconda3/envs/AI/lib/python3.11/site-packages (from httpx<0.28.0,>=0.27.0->ollama) (3.7)\n",
      "Requirement already satisfied: sniffio in /home/davis/miniconda3/envs/AI/lib/python3.11/site-packages (from httpx<0.28.0,>=0.27.0->ollama) (1.3.1)\n",
      "Requirement already satisfied: h11<0.15,>=0.13 in /home/davis/miniconda3/envs/AI/lib/python3.11/site-packages (from httpcore==1.*->httpx<0.28.0,>=0.27.0->ollama) (0.14.0)\n",
      "Requirement already satisfied: jsonpatch<2.0,>=1.33 in /home/davis/miniconda3/envs/AI/lib/python3.11/site-packages (from langchain-core<0.2.0,>=0.1.46->langchain_openai) (1.33)\n",
      "Requirement already satisfied: packaging<24.0,>=23.2 in /home/davis/miniconda3/envs/AI/lib/python3.11/site-packages (from langchain-core<0.2.0,>=0.1.46->langchain_openai) (23.2)\n",
      "Requirement already satisfied: orjson<4.0.0,>=3.9.14 in /home/davis/miniconda3/envs/AI/lib/python3.11/site-packages (from langsmith<0.2.0,>=0.1.17->langchain) (3.10.3)\n",
      "Requirement already satisfied: distro<2,>=1.7.0 in /home/davis/miniconda3/envs/AI/lib/python3.11/site-packages (from openai<2.0.0,>=1.24.0->langchain_openai) (1.9.0)\n",
      "Requirement already satisfied: tqdm>4 in /home/davis/miniconda3/envs/AI/lib/python3.11/site-packages (from openai<2.0.0,>=1.24.0->langchain_openai) (4.66.4)\n",
      "Requirement already satisfied: typing-extensions<5,>=4.7 in /home/davis/.local/lib/python3.11/site-packages (from openai<2.0.0,>=1.24.0->langchain_openai) (4.11.0)\n",
      "Requirement already satisfied: annotated-types>=0.4.0 in /home/davis/miniconda3/envs/AI/lib/python3.11/site-packages (from pydantic<3,>=1->langchain) (0.6.0)\n",
      "Requirement already satisfied: pydantic-core==2.18.2 in /home/davis/miniconda3/envs/AI/lib/python3.11/site-packages (from pydantic<3,>=1->langchain) (2.18.2)\n",
      "Requirement already satisfied: charset-normalizer<4,>=2 in /home/davis/miniconda3/envs/AI/lib/python3.11/site-packages (from requests<3,>=2->langchain) (3.3.2)\n",
      "Requirement already satisfied: urllib3<3,>=1.21.1 in /home/davis/miniconda3/envs/AI/lib/python3.11/site-packages (from requests<3,>=2->langchain) (2.2.1)\n",
      "Requirement already satisfied: greenlet!=0.4.17 in /home/davis/miniconda3/envs/AI/lib/python3.11/site-packages (from SQLAlchemy<3,>=1.4->langchain) (3.0.3)\n",
      "Requirement already satisfied: regex>=2022.1.18 in /home/davis/miniconda3/envs/AI/lib/python3.11/site-packages (from tiktoken<1,>=0.5.2->langchain_openai) (2024.5.10)\n",
      "Requirement already satisfied: jsonpointer>=1.9 in /home/davis/miniconda3/envs/AI/lib/python3.11/site-packages (from jsonpatch<2.0,>=1.33->langchain-core<0.2.0,>=0.1.46->langchain_openai) (2.4)\n",
      "Requirement already satisfied: mypy-extensions>=0.3.0 in /home/davis/miniconda3/envs/AI/lib/python3.11/site-packages (from typing-inspect<1,>=0.4.0->dataclasses-json<0.7,>=0.5.7->langchain) (1.0.0)\n",
      "Note: you may need to restart the kernel to use updated packages.\n"
     ]
    }
   ],
   "source": [
    "%pip install langchain_openai langchain langchain_experimental ollama"
   ]
  },
  {
   "cell_type": "code",
   "execution_count": 55,
   "metadata": {},
   "outputs": [],
   "source": [
    "from langchain_core.utils.function_calling import convert_to_openai_function\n",
    "from langchain.pydantic_v1 import BaseModel, Field\n",
    "from langchain.tools import tool"
   ]
  },
  {
   "cell_type": "code",
   "execution_count": 56,
   "metadata": {},
   "outputs": [],
   "source": [
    "import pandas as pd\n",
    "from qdrant_client import QdrantClient,models\n",
    "from sentence_transformers import SentenceTransformer\n"
   ]
  },
  {
   "cell_type": "code",
   "execution_count": 57,
   "metadata": {},
   "outputs": [
    {
     "name": "stderr",
     "output_type": "stream",
     "text": [
      "/home/davis/miniconda3/envs/AI/lib/python3.11/site-packages/huggingface_hub/file_download.py:1132: FutureWarning: `resume_download` is deprecated and will be removed in version 1.0.0. Downloads always resume when possible. If you want to force a new download, use `force_download=True`.\n",
      "  warnings.warn(\n"
     ]
    }
   ],
   "source": [
    "client = QdrantClient(url=\"http://localhost:6333\")\n",
    "collection_name = \"no_coordinates_collection\"\n",
    "model = SentenceTransformer('sentence-transformers/all-MiniLM-L6-v2')\n"
   ]
  },
  {
   "cell_type": "code",
   "execution_count": 58,
   "metadata": {},
   "outputs": [],
   "source": [
    "# embeddings = model.encode('900 Embarcadero Del Mar Isla Vista CA 93117')\n",
    "# print(len(embeddings))\n",
    "# output = client.search(\n",
    "#         collection_name=f\"{collection_name}\",\n",
    "#         query_filter=models.Filter(\n",
    "#             must=[\n",
    "#                 models.FieldCondition(\n",
    "#                     key=\"categories\",\n",
    "#                     match=models.MatchValue(\n",
    "#                         value='Restaurants',\n",
    "#                     ),\n",
    "#                 )\n",
    "#             ]\n",
    "#         ),\n",
    "#         query_vector=embeddings,\n",
    "#         limit=3,\n",
    "#     )\n",
    "# print(output)"
   ]
  },
  {
   "cell_type": "markdown",
   "metadata": {},
   "source": [
    "# Define your tools!\n",
    "\n",
    "For this we create a Langchain tool for retrieving weather information and use the `convert_to_openai_function` to create the function definition that we will feed into the model"
   ]
  },
  {
   "cell_type": "code",
   "execution_count": 59,
   "metadata": {},
   "outputs": [
    {
     "data": {
      "text/plain": [
       "[{'name': 'get_catagory',\n",
       "  'description': 'get_catagory(location: str, Catagory: str) -> str - Get a business recommendation given location and catagory of user\\'s choice.        e.g. \"Name of restaurant\": Helena Avenue Bakery, \"Location\": 131 Anacapa St, Ste C Santa Barbara 93101 ,\"Catagory\": Food, Restaurants, Salad, Coffee & Tea',\n",
       "  'parameters': {'type': 'object',\n",
       "   'properties': {'location': {'description': 'Current location of user.',\n",
       "     'type': 'string'},\n",
       "    'Catagory': {'description': 'Type of business that the user wants to go.',\n",
       "     'type': 'string'}},\n",
       "   'required': ['location', 'Catagory']}}]"
      ]
     },
     "execution_count": 59,
     "metadata": {},
     "output_type": "execute_result"
    }
   ],
   "source": [
    "class SearchInput(BaseModel):\n",
    "    location: str = Field(description=\"Current location of user.\")\n",
    "    Category: str = Field(description=\"Type of business that the user wants to go.\")\n",
    "@tool(\"get_catagory\", args_schema=SearchInput)\n",
    "def get_category(location: str, Category: str) -> str:\n",
    "    \"\"\"Get a business recommendation given location and catagory of user's choice.\\\n",
    "        e.g. \"Name of restaurant\": Helena Avenue Bakery, \"Location\": 131 Anacapa St, Ste C Santa Barbara 93101 ,\"Category\": Food, Restaurants, Salad, Coffee & Tea \"\"\"\n",
    "    address_embedding = model.encode(location)\n",
    "    # print(address_embedding)\n",
    "    output = client.search(\n",
    "        collection_name=f\"{collection_name}\",\n",
    "        query_filter=models.Filter(\n",
    "            must=[\n",
    "                models.FieldCondition(\n",
    "                    key=\"categories\",\n",
    "                    match=models.MatchValue(\n",
    "                        value=Category,\n",
    "                    ),\n",
    "                )\n",
    "            ]\n",
    "        ),\n",
    "        search_params=models.SearchParams(hnsw_ef=128, exact=False),\n",
    "        query_vector=address_embedding,\n",
    "        limit=3,\n",
    "    )\n",
    "    print(output)\n",
    "    return {\"Name of restaurant\": Name ,\"Location\": location, \"Category\": 73.4}\n",
    "\n",
    "tools = [get_category]\n",
    "functions = [convert_to_openai_function(t) for t in tools]\n",
    "functions"
   ]
  },
  {
   "cell_type": "markdown",
   "metadata": {},
   "source": [
    "# Invoke the Model\n",
    "\n",
    "Now we can prompt the model and pass the functions 🥳"
   ]
  },
  {
   "cell_type": "code",
   "execution_count": 60,
   "metadata": {},
   "outputs": [
    {
     "name": "stdout",
     "output_type": "stream",
     "text": [
      "\n",
      "You are an navigation assistant with access to these functions -\n",
      "[\n",
      "    {\n",
      "        \"name\": \"get_catagory\",\n",
      "        \"description\": \"get_catagory(location: str, Catagory: str) -> str - Get a business recommendation given location and catagory of user's choice.        e.g. \\\"Name of restaurant\\\": Helena Avenue Bakery, \\\"Location\\\": 131 Anacapa St, Ste C Santa Barbara 93101 ,\\\"Catagory\\\": Food, Restaurants, Salad, Coffee & Tea\",\n",
      "        \"parameters\": {\n",
      "            \"type\": \"object\",\n",
      "            \"properties\": {\n",
      "                \"location\": {\n",
      "                    \"description\": \"Current location of user.\",\n",
      "                    \"type\": \"string\"\n",
      "                },\n",
      "                \"Catagory\": {\n",
      "                    \"description\": \"Type of business that the user wants to go.\",\n",
      "                    \"type\": \"string\"\n",
      "                }\n",
      "            },\n",
      "            \"required\": [\n",
      "                \"location\",\n",
      "                \"Catagory\"\n",
      "            ]\n",
      "        }\n",
      "    }\n",
      "]\n",
      "\n"
     ]
    }
   ],
   "source": [
    "import ollama\n",
    "import json\n",
    "\n",
    "SYSTEM_PROMPT = f\"\"\"\n",
    "You are an navigation assistant with access to these functions -\n",
    "{json.dumps(functions, indent=4)}\n",
    "\"\"\"\n",
    "\n",
    "print (SYSTEM_PROMPT)"
   ]
  },
  {
   "cell_type": "code",
   "execution_count": 61,
   "metadata": {},
   "outputs": [],
   "source": [
    "import json\n",
    "import re\n",
    "from typing import Optional, Dict\n",
    "\n",
    "def parse_function_call(input_str: str) -> Optional[Dict[str, any]]:\n",
    "    \"\"\"\n",
    "    Parses a text string to find and extract a function call.\n",
    "    The function call is expected to be in the format:\n",
    "    <functioncall> {\"name\": \"<function_name>\", \"arguments\": \"<arguments_json_string>\"}\n",
    "\n",
    "    Args:\n",
    "        input_str (str): The text containing the function call.\n",
    "\n",
    "    Returns:\n",
    "        Optional[Dict[str, any]]: A dictionary with 'name' and 'arguments' if a function call is found,\n",
    "                                  otherwise None.\n",
    "    \"\"\"\n",
    "    # Regex pattern to extract 'name' and 'arguments'\n",
    "    pattern = r'\"name\":\\s*\"([^\"]+)\",\\s*\"arguments\":\\s*\\'(.*?)\\''\n",
    "\n",
    "    # Search with regex\n",
    "    match = re.search(pattern, input_str)\n",
    "    print(match)\n",
    "    if match:\n",
    "        try:\n",
    "            name = match.group(1)\n",
    "            arguments_str = match.group(2)\n",
    "            arguments = json.loads(arguments_str)\n",
    "            return {\"name\": name, \"arguments\": arguments}\n",
    "        except json.JSONDecodeError:\n",
    "            return None\n",
    "    return None\n"
   ]
  },
  {
   "cell_type": "code",
   "execution_count": 62,
   "metadata": {},
   "outputs": [],
   "source": [
    "messages = [\n",
    "     {'role': 'system','content': SYSTEM_PROMPT}, \n",
    "     {'role': 'user','content': 'Im at 900 Embarcadero Del Mar, whats the best restaurant nearby?'},\n",
    "]\n",
    "\n",
    "response = ollama.chat(model='calebfahlgren/natural-functions', messages=messages)\n",
    "message = (response['message']['content'])"
   ]
  },
  {
   "cell_type": "code",
   "execution_count": 63,
   "metadata": {},
   "outputs": [
    {
     "data": {
      "text/plain": [
       "'<functioncall> {\"name\": \"get_catagory\", \"arguments\": \\'{\"location\": \"900 Embarcadero Del Mar\", \"Catagory\": \"Food, Restaurants\"}\\'}'"
      ]
     },
     "execution_count": 63,
     "metadata": {},
     "output_type": "execute_result"
    }
   ],
   "source": [
    "message"
   ]
  },
  {
   "cell_type": "markdown",
   "metadata": {},
   "source": [
    "# Call the Function\n",
    "\n",
    "Here we pull the function out of `kwargs` and call our tool with the arguments"
   ]
  },
  {
   "cell_type": "code",
   "execution_count": 64,
   "metadata": {},
   "outputs": [
    {
     "name": "stdout",
     "output_type": "stream",
     "text": [
      "<re.Match object; span=(16, 127), match='\"name\": \"get_catagory\", \"arguments\": \\'{\"location>\n",
      "{'name': 'get_catagory', 'arguments': {'location': '900 Embarcadero Del Mar', 'Catagory': 'Food, Restaurants'}}\n"
     ]
    },
    {
     "ename": "NameError",
     "evalue": "name 'restaurant' is not defined",
     "output_type": "error",
     "traceback": [
      "\u001b[0;31m---------------------------------------------------------------------------\u001b[0m",
      "\u001b[0;31mNameError\u001b[0m                                 Traceback (most recent call last)",
      "Cell \u001b[0;32mIn[64], line 9\u001b[0m\n\u001b[1;32m      6\u001b[0m     args \u001b[38;5;241m=\u001b[39m function_call\u001b[38;5;241m.\u001b[39mget(\u001b[38;5;124m\"\u001b[39m\u001b[38;5;124marguments\u001b[39m\u001b[38;5;124m\"\u001b[39m)\n\u001b[1;32m      7\u001b[0m     restaurant \u001b[38;5;241m=\u001b[39m get_category\u001b[38;5;241m.\u001b[39mrun(args)\n\u001b[0;32m----> 9\u001b[0m \u001b[43mrestaurant\u001b[49m\n",
      "\u001b[0;31mNameError\u001b[0m: name 'restaurant' is not defined"
     ]
    }
   ],
   "source": [
    "messages.append({'role': 'assistant', 'content': message}) # add ai response to history\n",
    "\n",
    "function_call = parse_function_call(message) # parse out function call name and args into json\n",
    "print(function_call)\n",
    "if function_call and function_call.get(\"name\") == \"get_category\":\n",
    "    args = function_call.get(\"arguments\")\n",
    "    restaurant = get_category.run(args)\n",
    "\n",
    "restaurant"
   ]
  },
  {
   "cell_type": "code",
   "execution_count": null,
   "metadata": {},
   "outputs": [
    {
     "data": {
      "text/plain": [
       "[{'role': 'system',\n",
       "  'content': '\\nYou are a weather assistant with access to these functions -\\n[\\n    {\\n        \"name\": \"get_weather_tool\",\\n        \"description\": \"get_weather_tool(location: str) -> str - Get the current weather in a given location\",\\n        \"parameters\": {\\n            \"type\": \"object\",\\n            \"properties\": {\\n                \"location\": {\\n                    \"description\": \"The city and state, e.g. San Francisco, CA\",\\n                    \"type\": \"string\"\\n                }\\n            },\\n            \"required\": [\\n                \"location\"\\n            ]\\n        }\\n    }\\n]\\n'},\n",
       " {'role': 'user', 'content': 'What is the weather like in the Dallas, TX?'},\n",
       " {'role': 'assistant',\n",
       "  'content': '<functioncall> {\"name\": \"get_weather_tool\", \"arguments\": \\'{\"location\": \"Dallas, TX\"}\\'}'},\n",
       " {'role': 'user',\n",
       "  'content': \"Function Response: {'location': 'Dallas, TX', 'fahrenheit': 73.4}\"}]"
      ]
     },
     "execution_count": 156,
     "metadata": {},
     "output_type": "execute_result"
    }
   ],
   "source": [
    "messages.append({'role': 'user', 'content': 'Function Response: ' + str(current_weather)})\n",
    "messages"
   ]
  },
  {
   "cell_type": "code",
   "execution_count": null,
   "metadata": {},
   "outputs": [
    {
     "data": {
      "text/plain": [
       "'The current weather in Dallas, TX is sunny and the temperature is around 73.4 degrees Fahrenheit'"
      ]
     },
     "execution_count": 157,
     "metadata": {},
     "output_type": "execute_result"
    }
   ],
   "source": [
    "response = ollama.chat(model='natural-functions', messages=messages)\n",
    "response['message']['content']"
   ]
  }
 ],
 "metadata": {
  "kernelspec": {
   "display_name": "Python 3",
   "language": "python",
   "name": "python3"
  },
  "language_info": {
   "codemirror_mode": {
    "name": "ipython",
    "version": 3
   },
   "file_extension": ".py",
   "mimetype": "text/x-python",
   "name": "python",
   "nbconvert_exporter": "python",
   "pygments_lexer": "ipython3",
   "version": "3.11.0"
  }
 },
 "nbformat": 4,
 "nbformat_minor": 2
}
