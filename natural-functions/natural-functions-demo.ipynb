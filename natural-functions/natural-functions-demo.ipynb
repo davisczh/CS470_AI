{
 "cells": [
  {
   "cell_type": "code",
   "execution_count": 123,
   "metadata": {},
   "outputs": [],
   "source": [
    "from langchain_core.utils.function_calling import convert_to_openai_function\n",
    "from langchain.pydantic_v1 import BaseModel, Field\n",
    "from langchain.tools import tool"
   ]
  },
  {
   "cell_type": "code",
   "execution_count": 124,
   "metadata": {},
   "outputs": [],
   "source": [
    "import pandas as pd\n",
    "from qdrant_client import QdrantClient,models\n",
    "from sentence_transformers import SentenceTransformer\n"
   ]
  },
  {
   "cell_type": "code",
   "execution_count": 125,
   "metadata": {},
   "outputs": [
    {
     "name": "stderr",
     "output_type": "stream",
     "text": [
      "/home/davis/miniconda3/envs/AI/lib/python3.11/site-packages/huggingface_hub/file_download.py:1132: FutureWarning: `resume_download` is deprecated and will be removed in version 1.0.0. Downloads always resume when possible. If you want to force a new download, use `force_download=True`.\n",
      "  warnings.warn(\n"
     ]
    }
   ],
   "source": [
    "client = QdrantClient(url=\"http://localhost:6333\")\n",
    "collection_name = \"no_coordinates_collection\"\n",
    "model = SentenceTransformer('sentence-transformers/all-MiniLM-L6-v2')\n"
   ]
  },
  {
   "cell_type": "code",
   "execution_count": 136,
   "metadata": {},
   "outputs": [],
   "source": [
    "# I USED THIS FOR DEBUGGING\n",
    "# embeddings = model.encode('900 Embarcadero Del Mar')\n",
    "# print(len(embeddings))\n",
    "# output = client.search(\n",
    "#         collection_name=f\"{collection_name}\",\n",
    "#         query_filter=models.Filter(\n",
    "#             must=[\n",
    "#                 models.FieldCondition(\n",
    "#                     key=\"categories\",\n",
    "#                     match=models.MatchValue(\n",
    "#                         value='Restaurants',\n",
    "#                     ),\n",
    "#                 )\n",
    "#             ]\n",
    "#         ),\n",
    "#         query_vector=embeddings,\n",
    "#         limit=3,\n",
    "#     )\n",
    "# print(output)"
   ]
  },
  {
   "cell_type": "markdown",
   "metadata": {},
   "source": [
    "# Define your tools!\n",
    "\n",
    "For this we create a Langchain tool for retrieving weather information and use the `convert_to_openai_function` to create the function definition that we will feed into the model"
   ]
  },
  {
   "cell_type": "code",
   "execution_count": 127,
   "metadata": {},
   "outputs": [
    {
     "data": {
      "text/plain": [
       "[{'name': 'get_category',\n",
       "  'description': 'get_category(location: str, Category: str) -> str - Get a business recommendation given location and category of user\\'s choice.        e.g. \"Name of restaurant\": Helena Avenue Bakery, \"Location\": 131 Anacapa St, Ste C Santa Barbara 93101 ,\"Category\": Food, Restaurants, Salad, Coffee & Tea',\n",
       "  'parameters': {'type': 'object',\n",
       "   'properties': {'location': {'description': 'Current location of user.',\n",
       "     'type': 'string'},\n",
       "    'Category': {'description': 'Type of business that the user wants to go.',\n",
       "     'type': 'string'}},\n",
       "   'required': ['location', 'Category']}}]"
      ]
     },
     "execution_count": 127,
     "metadata": {},
     "output_type": "execute_result"
    }
   ],
   "source": [
    "class SearchInput(BaseModel):\n",
    "    location: str = Field(description=\"Current location of user.\")\n",
    "    Category: str = Field(description=\"Type of business that the user wants to go.\")\n",
    "@tool(\"get_category\", args_schema=SearchInput)\n",
    "def get_category(location: str, Category: str) -> str:\n",
    "    \"\"\"Get a business recommendation given location and category of user's choice.\\\n",
    "        e.g. \"Name of restaurant\": Helena Avenue Bakery, \"Location\": 131 Anacapa St, Ste C Santa Barbara 93101 ,\"Category\": Food, Restaurants, Salad, Coffee & Tea \"\"\"\n",
    "    print(location, Category)\n",
    "    address_embedding = model.encode(location)\n",
    "    # print(address_embedding)\n",
    "    output = client.search(\n",
    "        collection_name=f\"{collection_name}\",\n",
    "        query_filter=models.Filter(\n",
    "            must=[\n",
    "                models.FieldCondition(\n",
    "                    key=\"categories\",\n",
    "                    match=models.MatchValue(\n",
    "                        value=Category,\n",
    "                    ),\n",
    "                )\n",
    "            ]\n",
    "        ),\n",
    "        \n",
    "        query_vector=address_embedding,\n",
    "        limit=3,\n",
    "    )\n",
    "\n",
    "    print('Query output:',output)\n",
    "    best_point = max(output, key=lambda x: x.score)\n",
    "    restaurant_name = best_point.payload['name']\n",
    "    restaurant_address = best_point.payload['full_address']\n",
    "\n",
    "    print(f\"The best-rated restaurant is {restaurant_name} located at {restaurant_address}.\")\n",
    "\n",
    "    return {\"Name of restaurant\": restaurant_name ,\"Location\": restaurant_address}\n",
    "\n",
    "tools = [get_category]\n",
    "functions = [convert_to_openai_function(t) for t in tools]\n",
    "functions"
   ]
  },
  {
   "cell_type": "markdown",
   "metadata": {},
   "source": [
    "# Invoke the Model\n",
    "\n",
    "Now we can prompt the model and pass the functions 🥳"
   ]
  },
  {
   "cell_type": "code",
   "execution_count": 128,
   "metadata": {},
   "outputs": [
    {
     "name": "stdout",
     "output_type": "stream",
     "text": [
      "\n",
      "You are an navigation assistant with access to these functions -\n",
      "[\n",
      "    {\n",
      "        \"name\": \"get_category\",\n",
      "        \"description\": \"get_category(location: str, Category: str) -> str - Get a business recommendation given location and category of user's choice.        e.g. \\\"Name of restaurant\\\": Helena Avenue Bakery, \\\"Location\\\": 131 Anacapa St, Ste C Santa Barbara 93101 ,\\\"Category\\\": Food, Restaurants, Salad, Coffee & Tea\",\n",
      "        \"parameters\": {\n",
      "            \"type\": \"object\",\n",
      "            \"properties\": {\n",
      "                \"location\": {\n",
      "                    \"description\": \"Current location of user.\",\n",
      "                    \"type\": \"string\"\n",
      "                },\n",
      "                \"Category\": {\n",
      "                    \"description\": \"Type of business that the user wants to go.\",\n",
      "                    \"type\": \"string\"\n",
      "                }\n",
      "            },\n",
      "            \"required\": [\n",
      "                \"location\",\n",
      "                \"Category\"\n",
      "            ]\n",
      "        }\n",
      "    }\n",
      "]\n",
      "\n"
     ]
    }
   ],
   "source": [
    "import ollama\n",
    "import json\n",
    "\n",
    "SYSTEM_PROMPT = f\"\"\"\n",
    "You are an navigation assistant with access to these functions -\n",
    "{json.dumps(functions, indent=4)}\n",
    "\"\"\"\n",
    "\n",
    "print (SYSTEM_PROMPT)"
   ]
  },
  {
   "cell_type": "code",
   "execution_count": 129,
   "metadata": {},
   "outputs": [],
   "source": [
    "import json\n",
    "import re\n",
    "from typing import Optional, Dict\n",
    "\n",
    "def parse_function_call(input_str: str) -> Optional[Dict[str, any]]:\n",
    "    \"\"\"\n",
    "    Parses a text string to find and extract a function call.\n",
    "    The function call is expected to be in the format:\n",
    "    <functioncall> {\"name\": \"<function_name>\", \"arguments\": \"<arguments_json_string>\"}\n",
    "\n",
    "    Args:\n",
    "        input_str (str): The text containing the function call.\n",
    "\n",
    "    Returns:\n",
    "        Optional[Dict[str, any]]: A dictionary with 'name' and 'arguments' if a function call is found,\n",
    "                                  otherwise None.\n",
    "    \"\"\"\n",
    "    # Regex pattern to extract 'name' and 'arguments'\n",
    "    pattern = r'\"name\":\\s*\"([^\"]+)\",\\s*\"arguments\":\\s*\\'(.*?)\\''\n",
    "\n",
    "    # Search with regex\n",
    "    match = re.search(pattern, input_str)\n",
    "    print(match)\n",
    "    if match:\n",
    "        try:\n",
    "            name = match.group(1)\n",
    "            arguments_str = match.group(2)\n",
    "            arguments = json.loads(arguments_str)\n",
    "            return {\"name\": name, \"arguments\": arguments}\n",
    "        except json.JSONDecodeError:\n",
    "            return None\n",
    "    return None\n"
   ]
  },
  {
   "cell_type": "code",
   "execution_count": 133,
   "metadata": {},
   "outputs": [],
   "source": [
    "messages = [\n",
    "     {'role': 'system','content': SYSTEM_PROMPT}, \n",
    "     {'role': 'user','content': 'Im at 900 Embarcadero Del Mar, any restaurants nearby?'},\n",
    "]\n",
    "\n",
    "response = ollama.chat(model='calebfahlgren/natural-functions', messages=messages)\n",
    "message = (response['message']['content'])"
   ]
  },
  {
   "cell_type": "code",
   "execution_count": 134,
   "metadata": {},
   "outputs": [
    {
     "data": {
      "text/plain": [
       "'<functioncall> {\"name\": \"get_category\", \"arguments\": \\'{\"location\": \"900 Embarcadero Del Mar\", \"Category\": \"Restaurants\"}\\'}'"
      ]
     },
     "execution_count": 134,
     "metadata": {},
     "output_type": "execute_result"
    }
   ],
   "source": [
    "message"
   ]
  },
  {
   "cell_type": "markdown",
   "metadata": {},
   "source": [
    "# Call the Function\n",
    "\n",
    "Here we pull the function out of `kwargs` and call our tool with the arguments"
   ]
  },
  {
   "cell_type": "code",
   "execution_count": 135,
   "metadata": {},
   "outputs": [
    {
     "name": "stdout",
     "output_type": "stream",
     "text": [
      "<re.Match object; span=(16, 121), match='\"name\": \"get_category\", \"arguments\": \\'{\"location>\n",
      "{'name': 'get_category', 'arguments': {'location': '900 Embarcadero Del Mar', 'Category': 'Restaurants'}}\n",
      "900 Embarcadero Del Mar Restaurants\n",
      "Query output: [ScoredPoint(id='00f1dff8-0597-58c7-a355-00ed3515c954', version=13, score=0.834775, payload={'categories': ['Burgers', 'American (Traditional)', 'Sandwiches', 'Restaurants', 'Salad', 'Soup', 'Breakfast & Brunch'], 'full_address': '900 Embarcadero Del Mar Isla Vista 93117', 'hours': {'Friday': '9:0-21:0', 'Monday': '9:0-21:0', 'Saturday': '9:0-21:0', 'Sunday': '9:0-21:0', 'Thursday': '9:0-21:0', 'Tuesday': '9:0-21:0', 'Wednesday': '9:0-21:0'}, 'name': 'Silvergreens', 'review_count': 308, 'stars': 3.5}, vector=None, shard_key=None), ScoredPoint(id='a46c0b14-71ac-59ab-8825-ddd0f1a97b17', version=51, score=0.834775, payload={'categories': ['Restaurants', 'Burgers', 'Food', 'Ice Cream & Frozen Yogurt', 'American (Traditional)', 'Salad'], 'full_address': '900 Embarcadero Del Mar Isla Vista 93117', 'hours': None, 'name': \"Kyle's Isla Vista\", 'review_count': 12, 'stars': 2.5}, vector=None, shard_key=None), ScoredPoint(id='71b6c5e3-b6c0-5141-beb7-ac6a368ae735', version=1, score=0.7379837, payload={'categories': ['Sushi Bars', 'Caterers', 'Food', 'Fast Food', 'Event Planning & Services', 'Japanese', 'Food Delivery Services', 'Korean', 'Restaurants', 'Specialty Food', 'Asian Fusion'], 'full_address': '955 Embarcadero Del Mar Goleta 93117', 'hours': {'Friday': '12:0-21:0', 'Monday': '12:0-21:0', 'Saturday': '12:0-21:0', 'Sunday': '12:0-21:0', 'Thursday': '12:0-21:0', 'Tuesday': '12:0-21:0'}, 'name': 'Sushiya Express', 'review_count': 163, 'stars': 3.5}, vector=None, shard_key=None)]\n",
      "The best-rated restaurant is Silvergreens located at 900 Embarcadero Del Mar Isla Vista 93117.\n"
     ]
    },
    {
     "data": {
      "text/plain": [
       "{'Name of restaurant': 'Silvergreens',\n",
       " 'Location': '900 Embarcadero Del Mar Isla Vista 93117'}"
      ]
     },
     "execution_count": 135,
     "metadata": {},
     "output_type": "execute_result"
    }
   ],
   "source": [
    "messages.append({'role': 'assistant', 'content': message}) # add ai response to history\n",
    "\n",
    "function_call = parse_function_call(message) # parse out function call name and args into json\n",
    "print(function_call)\n",
    "if function_call and function_call.get(\"name\") == \"get_category\":\n",
    "    args = function_call.get(\"arguments\")\n",
    "    restaurant = get_category.run(args)\n",
    "\n",
    "restaurant"
   ]
  },
  {
   "cell_type": "code",
   "execution_count": 138,
   "metadata": {},
   "outputs": [
    {
     "data": {
      "text/plain": [
       "[{'role': 'system',\n",
       "  'content': '\\nYou are an navigation assistant with access to these functions -\\n[\\n    {\\n        \"name\": \"get_category\",\\n        \"description\": \"get_category(location: str, Category: str) -> str - Get a business recommendation given location and category of user\\'s choice.        e.g. \\\\\"Name of restaurant\\\\\": Helena Avenue Bakery, \\\\\"Location\\\\\": 131 Anacapa St, Ste C Santa Barbara 93101 ,\\\\\"Category\\\\\": Food, Restaurants, Salad, Coffee & Tea\",\\n        \"parameters\": {\\n            \"type\": \"object\",\\n            \"properties\": {\\n                \"location\": {\\n                    \"description\": \"Current location of user.\",\\n                    \"type\": \"string\"\\n                },\\n                \"Category\": {\\n                    \"description\": \"Type of business that the user wants to go.\",\\n                    \"type\": \"string\"\\n                }\\n            },\\n            \"required\": [\\n                \"location\",\\n                \"Category\"\\n            ]\\n        }\\n    }\\n]\\n'},\n",
       " {'role': 'user',\n",
       "  'content': 'Im at 900 Embarcadero Del Mar, any restaurants nearby?'},\n",
       " {'role': 'assistant',\n",
       "  'content': '<functioncall> {\"name\": \"get_category\", \"arguments\": \\'{\"location\": \"900 Embarcadero Del Mar\", \"Category\": \"Restaurants\"}\\'}'},\n",
       " {'role': 'user',\n",
       "  'content': \"Function Response: {'Name of restaurant': 'Silvergreens', 'Location': '900 Embarcadero Del Mar Isla Vista 93117'}\"},\n",
       " {'role': 'user',\n",
       "  'content': \"Function Response: {'Name of restaurant': 'Silvergreens', 'Location': '900 Embarcadero Del Mar Isla Vista 93117'}\"}]"
      ]
     },
     "execution_count": 138,
     "metadata": {},
     "output_type": "execute_result"
    }
   ],
   "source": [
    "messages.append({'role': 'user', 'content': 'Function Response: ' + str(restaurant)})\n",
    "messages"
   ]
  },
  {
   "cell_type": "code",
   "execution_count": 140,
   "metadata": {},
   "outputs": [
    {
     "data": {
      "text/plain": [
       "\"The nearest restaurant is Silvergreens. It's located at 900 Embarcadero Del Mar, Isla Vista\""
      ]
     },
     "execution_count": 140,
     "metadata": {},
     "output_type": "execute_result"
    }
   ],
   "source": [
    "response = ollama.chat(model='calebfahlgren/natural-functions', messages=messages)\n",
    "response['message']['content']"
   ]
  },
  {
   "cell_type": "code",
   "execution_count": null,
   "metadata": {},
   "outputs": [],
   "source": []
  }
 ],
 "metadata": {
  "kernelspec": {
   "display_name": "Python 3",
   "language": "python",
   "name": "python3"
  },
  "language_info": {
   "codemirror_mode": {
    "name": "ipython",
    "version": 3
   },
   "file_extension": ".py",
   "mimetype": "text/x-python",
   "name": "python",
   "nbconvert_exporter": "python",
   "pygments_lexer": "ipython3",
   "version": "3.11.0"
  }
 },
 "nbformat": 4,
 "nbformat_minor": 2
}
